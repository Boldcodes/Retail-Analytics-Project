{
 "cells": [
  {
   "cell_type": "markdown",
   "id": "6fa1475b",
   "metadata": {},
   "source": [
    "### Import Relevant Libraries"
   ]
  },
  {
   "cell_type": "code",
   "execution_count": 6,
   "id": "0e752672",
   "metadata": {
    "ExecuteTime": {
     "end_time": "2022-11-28T13:40:37.723984Z",
     "start_time": "2022-11-28T13:40:37.701977Z"
    }
   },
   "outputs": [],
   "source": [
    "import pandas as pd\n",
    "import numpy as np\n",
    "import matplotlib.pyplot as plt\n",
    "import os\n",
    "import sys\n",
    "import json\n",
    "import seaborn as sns\n",
    "sns.set()\n",
    "import pyodbc\n",
    "import warnings\n",
    "warnings.filterwarnings('ignore')\n",
    "\n",
    "%matplotlib inline\n",
    "plt.rcParams['figure.figsize'] = (10.0, 8.0) # set default size of plots\n",
    "plt.rcParams['image.interpolation'] = 'nearest'\n",
    "plt.rcParams['image.cmap'] = 'gray'\n",
    "colors = plt.rcParams['axes.prop_cycle'].by_key()['color']"
   ]
  },
  {
   "cell_type": "markdown",
   "id": "36550274",
   "metadata": {},
   "source": [
    "### Import Data"
   ]
  },
  {
   "cell_type": "code",
   "execution_count": 7,
   "id": "9680596d",
   "metadata": {
    "ExecuteTime": {
     "end_time": "2022-11-28T13:40:38.227489Z",
     "start_time": "2022-11-28T13:40:37.726961Z"
    }
   },
   "outputs": [],
   "source": [
    "nRowsRead = 100000\n",
    "# , nrows=nRowsRead\n",
    "feature_df = pd.read_csv(\"Features data set.csv\")\n",
    "sales_df = pd.read_csv(\"sales data-set.csv\")\n",
    "store_df = pd.read_csv(\"stores data-set.csv\")"
   ]
  },
  {
   "cell_type": "code",
   "execution_count": 8,
   "id": "7dd6b09c",
   "metadata": {
    "ExecuteTime": {
     "end_time": "2022-11-28T13:40:38.353466Z",
     "start_time": "2022-11-28T13:40:38.229488Z"
    }
   },
   "outputs": [],
   "source": [
    "feature_df[\"Date\"] = pd.to_datetime(feature_df[\"Date\"], format=\"%d/%m/%Y\")\n",
    "sales_df[\"Date\"] = pd.to_datetime(sales_df[\"Date\"], format=\"%d/%m/%Y\")"
   ]
  },
  {
   "cell_type": "markdown",
   "id": "64d8bc63",
   "metadata": {
    "ExecuteTime": {
     "end_time": "2022-11-24T15:35:34.587855Z",
     "start_time": "2022-11-24T15:35:34.559128Z"
    }
   },
   "source": [
    "### Combine The Datasets to one Dataframe"
   ]
  },
  {
   "cell_type": "code",
   "execution_count": 10,
   "id": "2b62dbbb",
   "metadata": {
    "ExecuteTime": {
     "end_time": "2022-11-28T13:40:38.996845Z",
     "start_time": "2022-11-28T13:40:38.436339Z"
    }
   },
   "outputs": [],
   "source": [
    "sales_date_store = sales_df.groupby([\"Date\",\"Store\"]).agg({\"Weekly_Sales\":\"sum\"})\n",
    "sales_date_store.sort_index(inplace=True)\n",
    "sales_date_store.Weekly_Sales = sales_date_store.Weekly_Sales/10000\n",
    "sales_date_store.Weekly_Sales = sales_date_store.Weekly_Sales.apply(int)\n",
    "main_df = pd.merge(feature_df,sales_date_store ,  how='left', on=[\"Date\",\"Store\"])\n",
    "main_df = pd.merge(main_df,store_df[[\"Store\",\"Type\"]] ,  how='left', on=[\"Store\"])\n",
    "main_df.head(20)\n",
    "data_train = main_df[main_df.Weekly_Sales.notnull()]\n",
    "data_test = main_df[main_df.Weekly_Sales.isnull()]"
   ]
  },
  {
   "cell_type": "code",
   "execution_count": 66,
   "id": "72d2aeca",
   "metadata": {
    "ExecuteTime": {
     "end_time": "2022-11-27T21:25:55.619887Z",
     "start_time": "2022-11-27T21:25:55.031326Z"
    }
   },
   "outputs": [],
   "source": [
    "# init_df = pd.merge(sales_df, feature_df, on=[\"Store\", \"Date\", \"IsHoliday\"], how=\"left\")\n",
    "# main_df = pd.merge(store_df, init_df, on=[\"Store\"], how=\"left\")"
   ]
  },
  {
   "cell_type": "code",
   "execution_count": 11,
   "id": "415e5263",
   "metadata": {
    "ExecuteTime": {
     "end_time": "2022-11-28T13:40:54.066977Z",
     "start_time": "2022-11-28T13:40:53.878085Z"
    }
   },
   "outputs": [
    {
     "data": {
      "text/html": [
       "<div>\n",
       "<style scoped>\n",
       "    .dataframe tbody tr th:only-of-type {\n",
       "        vertical-align: middle;\n",
       "    }\n",
       "\n",
       "    .dataframe tbody tr th {\n",
       "        vertical-align: top;\n",
       "    }\n",
       "\n",
       "    .dataframe thead th {\n",
       "        text-align: right;\n",
       "    }\n",
       "</style>\n",
       "<table border=\"1\" class=\"dataframe\">\n",
       "  <thead>\n",
       "    <tr style=\"text-align: right;\">\n",
       "      <th></th>\n",
       "      <th>Store</th>\n",
       "      <th>Date</th>\n",
       "      <th>Temperature</th>\n",
       "      <th>Fuel_Price</th>\n",
       "      <th>MarkDown1</th>\n",
       "      <th>MarkDown2</th>\n",
       "      <th>MarkDown3</th>\n",
       "      <th>MarkDown4</th>\n",
       "      <th>MarkDown5</th>\n",
       "      <th>CPI</th>\n",
       "      <th>Unemployment</th>\n",
       "      <th>IsHoliday</th>\n",
       "      <th>Weekly_Sales</th>\n",
       "      <th>Type</th>\n",
       "    </tr>\n",
       "  </thead>\n",
       "  <tbody>\n",
       "    <tr>\n",
       "      <th>0</th>\n",
       "      <td>1</td>\n",
       "      <td>2010-02-05</td>\n",
       "      <td>42.31</td>\n",
       "      <td>2.572</td>\n",
       "      <td>NaN</td>\n",
       "      <td>NaN</td>\n",
       "      <td>NaN</td>\n",
       "      <td>NaN</td>\n",
       "      <td>NaN</td>\n",
       "      <td>211.096358</td>\n",
       "      <td>8.106</td>\n",
       "      <td>False</td>\n",
       "      <td>164.0</td>\n",
       "      <td>A</td>\n",
       "    </tr>\n",
       "    <tr>\n",
       "      <th>1</th>\n",
       "      <td>1</td>\n",
       "      <td>2010-02-12</td>\n",
       "      <td>38.51</td>\n",
       "      <td>2.548</td>\n",
       "      <td>NaN</td>\n",
       "      <td>NaN</td>\n",
       "      <td>NaN</td>\n",
       "      <td>NaN</td>\n",
       "      <td>NaN</td>\n",
       "      <td>211.242170</td>\n",
       "      <td>8.106</td>\n",
       "      <td>True</td>\n",
       "      <td>164.0</td>\n",
       "      <td>A</td>\n",
       "    </tr>\n",
       "    <tr>\n",
       "      <th>2</th>\n",
       "      <td>1</td>\n",
       "      <td>2010-02-19</td>\n",
       "      <td>39.93</td>\n",
       "      <td>2.514</td>\n",
       "      <td>NaN</td>\n",
       "      <td>NaN</td>\n",
       "      <td>NaN</td>\n",
       "      <td>NaN</td>\n",
       "      <td>NaN</td>\n",
       "      <td>211.289143</td>\n",
       "      <td>8.106</td>\n",
       "      <td>False</td>\n",
       "      <td>161.0</td>\n",
       "      <td>A</td>\n",
       "    </tr>\n",
       "    <tr>\n",
       "      <th>3</th>\n",
       "      <td>1</td>\n",
       "      <td>2010-02-26</td>\n",
       "      <td>46.63</td>\n",
       "      <td>2.561</td>\n",
       "      <td>NaN</td>\n",
       "      <td>NaN</td>\n",
       "      <td>NaN</td>\n",
       "      <td>NaN</td>\n",
       "      <td>NaN</td>\n",
       "      <td>211.319643</td>\n",
       "      <td>8.106</td>\n",
       "      <td>False</td>\n",
       "      <td>140.0</td>\n",
       "      <td>A</td>\n",
       "    </tr>\n",
       "    <tr>\n",
       "      <th>4</th>\n",
       "      <td>1</td>\n",
       "      <td>2010-03-05</td>\n",
       "      <td>46.50</td>\n",
       "      <td>2.625</td>\n",
       "      <td>NaN</td>\n",
       "      <td>NaN</td>\n",
       "      <td>NaN</td>\n",
       "      <td>NaN</td>\n",
       "      <td>NaN</td>\n",
       "      <td>211.350143</td>\n",
       "      <td>8.106</td>\n",
       "      <td>False</td>\n",
       "      <td>155.0</td>\n",
       "      <td>A</td>\n",
       "    </tr>\n",
       "  </tbody>\n",
       "</table>\n",
       "</div>"
      ],
      "text/plain": [
       "   Store       Date  Temperature  Fuel_Price  MarkDown1  MarkDown2  MarkDown3  \\\n",
       "0      1 2010-02-05        42.31       2.572        NaN        NaN        NaN   \n",
       "1      1 2010-02-12        38.51       2.548        NaN        NaN        NaN   \n",
       "2      1 2010-02-19        39.93       2.514        NaN        NaN        NaN   \n",
       "3      1 2010-02-26        46.63       2.561        NaN        NaN        NaN   \n",
       "4      1 2010-03-05        46.50       2.625        NaN        NaN        NaN   \n",
       "\n",
       "   MarkDown4  MarkDown5         CPI  Unemployment  IsHoliday  Weekly_Sales  \\\n",
       "0        NaN        NaN  211.096358         8.106      False         164.0   \n",
       "1        NaN        NaN  211.242170         8.106       True         164.0   \n",
       "2        NaN        NaN  211.289143         8.106      False         161.0   \n",
       "3        NaN        NaN  211.319643         8.106      False         140.0   \n",
       "4        NaN        NaN  211.350143         8.106      False         155.0   \n",
       "\n",
       "  Type  \n",
       "0    A  \n",
       "1    A  \n",
       "2    A  \n",
       "3    A  \n",
       "4    A  "
      ]
     },
     "execution_count": 11,
     "metadata": {},
     "output_type": "execute_result"
    }
   ],
   "source": [
    "main_df.head()"
   ]
  },
  {
   "cell_type": "code",
   "execution_count": 12,
   "id": "1e614d48",
   "metadata": {
    "ExecuteTime": {
     "end_time": "2022-11-28T13:41:14.264441Z",
     "start_time": "2022-11-28T13:41:14.251448Z"
    }
   },
   "outputs": [
    {
     "name": "stdout",
     "output_type": "stream",
     "text": [
      "The combined dataframe has 8190 samples and each sample has 14 features.\n"
     ]
    }
   ],
   "source": [
    "num_samples, num_features = main_df.shape\n",
    "print(f\"The combined dataframe has {num_samples} samples and each sample has {num_features} features.\")"
   ]
  },
  {
   "cell_type": "markdown",
   "id": "b06b57b7",
   "metadata": {},
   "source": [
    "### Check for missing values"
   ]
  },
  {
   "cell_type": "code",
   "execution_count": 13,
   "id": "2784b7d9",
   "metadata": {
    "ExecuteTime": {
     "end_time": "2022-11-28T13:41:21.449068Z",
     "start_time": "2022-11-28T13:41:21.434057Z"
    }
   },
   "outputs": [
    {
     "data": {
      "text/plain": [
       "Store           False\n",
       "Date            False\n",
       "Temperature     False\n",
       "Fuel_Price      False\n",
       "MarkDown1        True\n",
       "MarkDown2        True\n",
       "MarkDown3        True\n",
       "MarkDown4        True\n",
       "MarkDown5        True\n",
       "CPI              True\n",
       "Unemployment     True\n",
       "IsHoliday       False\n",
       "Weekly_Sales     True\n",
       "Type            False\n",
       "dtype: bool"
      ]
     },
     "execution_count": 13,
     "metadata": {},
     "output_type": "execute_result"
    }
   ],
   "source": [
    "main_df.isnull().any()"
   ]
  },
  {
   "cell_type": "code",
   "execution_count": 14,
   "id": "0393548d",
   "metadata": {
    "ExecuteTime": {
     "end_time": "2022-11-28T13:41:35.422811Z",
     "start_time": "2022-11-28T13:41:35.394805Z"
    }
   },
   "outputs": [
    {
     "name": "stdout",
     "output_type": "stream",
     "text": [
      "The column Store has 0 null values.\n",
      "The column Date has 0 null values.\n",
      "The column Temperature has 0 null values.\n",
      "The column Fuel_Price has 0 null values.\n",
      "The column MarkDown1 has 4158 null values.\n",
      "The column MarkDown2 has 5269 null values.\n",
      "The column MarkDown3 has 4577 null values.\n",
      "The column MarkDown4 has 4726 null values.\n",
      "The column MarkDown5 has 4140 null values.\n",
      "The column CPI has 585 null values.\n",
      "The column Unemployment has 585 null values.\n",
      "The column IsHoliday has 0 null values.\n",
      "The column Weekly_Sales has 1755 null values.\n",
      "The column Type has 0 null values.\n"
     ]
    }
   ],
   "source": [
    "for col in main_df.columns:\n",
    "    count_missn = main_df[col].isnull().sum()\n",
    "    print(f\"The column {col} has {count_missn} null values.\")"
   ]
  },
  {
   "cell_type": "markdown",
   "id": "ab405d27",
   "metadata": {},
   "source": [
    "### Working on the features"
   ]
  },
  {
   "cell_type": "markdown",
   "id": "3fba6aa1",
   "metadata": {},
   "source": [
    "#### Change Column IsHoliday from boolean to integer"
   ]
  },
  {
   "cell_type": "code",
   "execution_count": 15,
   "id": "75f1c22b",
   "metadata": {
    "ExecuteTime": {
     "end_time": "2022-11-28T13:45:04.466636Z",
     "start_time": "2022-11-28T13:45:04.454646Z"
    }
   },
   "outputs": [],
   "source": [
    "main_df[\"IsHoliday\"]  = main_df[\"IsHoliday\"].astype(int)"
   ]
  },
  {
   "cell_type": "code",
   "execution_count": 16,
   "id": "730d547b",
   "metadata": {
    "ExecuteTime": {
     "end_time": "2022-11-28T13:45:05.712227Z",
     "start_time": "2022-11-28T13:45:05.667231Z"
    }
   },
   "outputs": [
    {
     "data": {
      "text/html": [
       "<div>\n",
       "<style scoped>\n",
       "    .dataframe tbody tr th:only-of-type {\n",
       "        vertical-align: middle;\n",
       "    }\n",
       "\n",
       "    .dataframe tbody tr th {\n",
       "        vertical-align: top;\n",
       "    }\n",
       "\n",
       "    .dataframe thead th {\n",
       "        text-align: right;\n",
       "    }\n",
       "</style>\n",
       "<table border=\"1\" class=\"dataframe\">\n",
       "  <thead>\n",
       "    <tr style=\"text-align: right;\">\n",
       "      <th></th>\n",
       "      <th>Store</th>\n",
       "      <th>Date</th>\n",
       "      <th>Temperature</th>\n",
       "      <th>Fuel_Price</th>\n",
       "      <th>MarkDown1</th>\n",
       "      <th>MarkDown2</th>\n",
       "      <th>MarkDown3</th>\n",
       "      <th>MarkDown4</th>\n",
       "      <th>MarkDown5</th>\n",
       "      <th>CPI</th>\n",
       "      <th>Unemployment</th>\n",
       "      <th>IsHoliday</th>\n",
       "      <th>Weekly_Sales</th>\n",
       "      <th>Type</th>\n",
       "    </tr>\n",
       "  </thead>\n",
       "  <tbody>\n",
       "    <tr>\n",
       "      <th>0</th>\n",
       "      <td>1</td>\n",
       "      <td>2010-02-05</td>\n",
       "      <td>42.31</td>\n",
       "      <td>2.572</td>\n",
       "      <td>NaN</td>\n",
       "      <td>NaN</td>\n",
       "      <td>NaN</td>\n",
       "      <td>NaN</td>\n",
       "      <td>NaN</td>\n",
       "      <td>211.096358</td>\n",
       "      <td>8.106</td>\n",
       "      <td>0</td>\n",
       "      <td>164.0</td>\n",
       "      <td>A</td>\n",
       "    </tr>\n",
       "    <tr>\n",
       "      <th>1</th>\n",
       "      <td>1</td>\n",
       "      <td>2010-02-12</td>\n",
       "      <td>38.51</td>\n",
       "      <td>2.548</td>\n",
       "      <td>NaN</td>\n",
       "      <td>NaN</td>\n",
       "      <td>NaN</td>\n",
       "      <td>NaN</td>\n",
       "      <td>NaN</td>\n",
       "      <td>211.242170</td>\n",
       "      <td>8.106</td>\n",
       "      <td>1</td>\n",
       "      <td>164.0</td>\n",
       "      <td>A</td>\n",
       "    </tr>\n",
       "    <tr>\n",
       "      <th>2</th>\n",
       "      <td>1</td>\n",
       "      <td>2010-02-19</td>\n",
       "      <td>39.93</td>\n",
       "      <td>2.514</td>\n",
       "      <td>NaN</td>\n",
       "      <td>NaN</td>\n",
       "      <td>NaN</td>\n",
       "      <td>NaN</td>\n",
       "      <td>NaN</td>\n",
       "      <td>211.289143</td>\n",
       "      <td>8.106</td>\n",
       "      <td>0</td>\n",
       "      <td>161.0</td>\n",
       "      <td>A</td>\n",
       "    </tr>\n",
       "    <tr>\n",
       "      <th>3</th>\n",
       "      <td>1</td>\n",
       "      <td>2010-02-26</td>\n",
       "      <td>46.63</td>\n",
       "      <td>2.561</td>\n",
       "      <td>NaN</td>\n",
       "      <td>NaN</td>\n",
       "      <td>NaN</td>\n",
       "      <td>NaN</td>\n",
       "      <td>NaN</td>\n",
       "      <td>211.319643</td>\n",
       "      <td>8.106</td>\n",
       "      <td>0</td>\n",
       "      <td>140.0</td>\n",
       "      <td>A</td>\n",
       "    </tr>\n",
       "    <tr>\n",
       "      <th>4</th>\n",
       "      <td>1</td>\n",
       "      <td>2010-03-05</td>\n",
       "      <td>46.50</td>\n",
       "      <td>2.625</td>\n",
       "      <td>NaN</td>\n",
       "      <td>NaN</td>\n",
       "      <td>NaN</td>\n",
       "      <td>NaN</td>\n",
       "      <td>NaN</td>\n",
       "      <td>211.350143</td>\n",
       "      <td>8.106</td>\n",
       "      <td>0</td>\n",
       "      <td>155.0</td>\n",
       "      <td>A</td>\n",
       "    </tr>\n",
       "  </tbody>\n",
       "</table>\n",
       "</div>"
      ],
      "text/plain": [
       "   Store       Date  Temperature  Fuel_Price  MarkDown1  MarkDown2  MarkDown3  \\\n",
       "0      1 2010-02-05        42.31       2.572        NaN        NaN        NaN   \n",
       "1      1 2010-02-12        38.51       2.548        NaN        NaN        NaN   \n",
       "2      1 2010-02-19        39.93       2.514        NaN        NaN        NaN   \n",
       "3      1 2010-02-26        46.63       2.561        NaN        NaN        NaN   \n",
       "4      1 2010-03-05        46.50       2.625        NaN        NaN        NaN   \n",
       "\n",
       "   MarkDown4  MarkDown5         CPI  Unemployment  IsHoliday  Weekly_Sales  \\\n",
       "0        NaN        NaN  211.096358         8.106          0         164.0   \n",
       "1        NaN        NaN  211.242170         8.106          1         164.0   \n",
       "2        NaN        NaN  211.289143         8.106          0         161.0   \n",
       "3        NaN        NaN  211.319643         8.106          0         140.0   \n",
       "4        NaN        NaN  211.350143         8.106          0         155.0   \n",
       "\n",
       "  Type  \n",
       "0    A  \n",
       "1    A  \n",
       "2    A  \n",
       "3    A  \n",
       "4    A  "
      ]
     },
     "execution_count": 16,
     "metadata": {},
     "output_type": "execute_result"
    }
   ],
   "source": [
    "main_df.head()"
   ]
  },
  {
   "cell_type": "code",
   "execution_count": 17,
   "id": "16a00c0d",
   "metadata": {
    "ExecuteTime": {
     "end_time": "2022-11-28T13:45:08.794232Z",
     "start_time": "2022-11-28T13:45:08.777241Z"
    }
   },
   "outputs": [
    {
     "data": {
      "text/plain": [
       "Store                    int64\n",
       "Date            datetime64[ns]\n",
       "Temperature            float64\n",
       "Fuel_Price             float64\n",
       "MarkDown1              float64\n",
       "MarkDown2              float64\n",
       "MarkDown3              float64\n",
       "MarkDown4              float64\n",
       "MarkDown5              float64\n",
       "CPI                    float64\n",
       "Unemployment           float64\n",
       "IsHoliday                int32\n",
       "Weekly_Sales           float64\n",
       "Type                    object\n",
       "dtype: object"
      ]
     },
     "execution_count": 17,
     "metadata": {},
     "output_type": "execute_result"
    }
   ],
   "source": [
    "main_df.dtypes"
   ]
  },
  {
   "cell_type": "markdown",
   "id": "5ba92849",
   "metadata": {},
   "source": [
    "#### The Type Column\n",
    "\n",
    "Change The Type Column to categorical\n",
    "\n",
    "We have three types A, B, C.\n",
    "A will be assigned to 0, B=1, C=2   respectively "
   ]
  },
  {
   "cell_type": "code",
   "execution_count": 18,
   "id": "8df9d020",
   "metadata": {
    "ExecuteTime": {
     "end_time": "2022-11-28T13:45:25.142708Z",
     "start_time": "2022-11-28T13:45:25.123584Z"
    }
   },
   "outputs": [],
   "source": [
    "def cat_store_type(df):\n",
    "    df_copy = df.copy()\n",
    "    df_copy.loc[df_copy[\"Type\"] == \"A\", \"Type\"] = 0\n",
    "    df_copy.loc[df_copy[\"Type\"] == \"B\", \"Type\"] = 1\n",
    "    df_copy.loc[df_copy[\"Type\"] == \"C\", \"Type\"] = 2\n",
    "    df_copy[\"Type\"] = df_copy[\"Type\"].astype(int)\n",
    "    return df_copy"
   ]
  },
  {
   "cell_type": "code",
   "execution_count": 19,
   "id": "3273dd7e",
   "metadata": {
    "ExecuteTime": {
     "end_time": "2022-11-28T13:45:33.482652Z",
     "start_time": "2022-11-28T13:45:33.362652Z"
    }
   },
   "outputs": [],
   "source": [
    "main_df = cat_store_type(main_df)"
   ]
  },
  {
   "cell_type": "code",
   "execution_count": 20,
   "id": "81e44968",
   "metadata": {
    "ExecuteTime": {
     "end_time": "2022-11-28T13:45:49.288079Z",
     "start_time": "2022-11-28T13:45:49.265096Z"
    }
   },
   "outputs": [
    {
     "data": {
      "text/html": [
       "<div>\n",
       "<style scoped>\n",
       "    .dataframe tbody tr th:only-of-type {\n",
       "        vertical-align: middle;\n",
       "    }\n",
       "\n",
       "    .dataframe tbody tr th {\n",
       "        vertical-align: top;\n",
       "    }\n",
       "\n",
       "    .dataframe thead th {\n",
       "        text-align: right;\n",
       "    }\n",
       "</style>\n",
       "<table border=\"1\" class=\"dataframe\">\n",
       "  <thead>\n",
       "    <tr style=\"text-align: right;\">\n",
       "      <th></th>\n",
       "      <th>Store</th>\n",
       "      <th>Date</th>\n",
       "      <th>Temperature</th>\n",
       "      <th>Fuel_Price</th>\n",
       "      <th>MarkDown1</th>\n",
       "      <th>MarkDown2</th>\n",
       "      <th>MarkDown3</th>\n",
       "      <th>MarkDown4</th>\n",
       "      <th>MarkDown5</th>\n",
       "      <th>CPI</th>\n",
       "      <th>Unemployment</th>\n",
       "      <th>IsHoliday</th>\n",
       "      <th>Weekly_Sales</th>\n",
       "      <th>Type</th>\n",
       "    </tr>\n",
       "  </thead>\n",
       "  <tbody>\n",
       "    <tr>\n",
       "      <th>0</th>\n",
       "      <td>1</td>\n",
       "      <td>2010-02-05</td>\n",
       "      <td>42.31</td>\n",
       "      <td>2.572</td>\n",
       "      <td>NaN</td>\n",
       "      <td>NaN</td>\n",
       "      <td>NaN</td>\n",
       "      <td>NaN</td>\n",
       "      <td>NaN</td>\n",
       "      <td>211.096358</td>\n",
       "      <td>8.106</td>\n",
       "      <td>0</td>\n",
       "      <td>164.0</td>\n",
       "      <td>0</td>\n",
       "    </tr>\n",
       "    <tr>\n",
       "      <th>1</th>\n",
       "      <td>1</td>\n",
       "      <td>2010-02-12</td>\n",
       "      <td>38.51</td>\n",
       "      <td>2.548</td>\n",
       "      <td>NaN</td>\n",
       "      <td>NaN</td>\n",
       "      <td>NaN</td>\n",
       "      <td>NaN</td>\n",
       "      <td>NaN</td>\n",
       "      <td>211.242170</td>\n",
       "      <td>8.106</td>\n",
       "      <td>1</td>\n",
       "      <td>164.0</td>\n",
       "      <td>0</td>\n",
       "    </tr>\n",
       "    <tr>\n",
       "      <th>2</th>\n",
       "      <td>1</td>\n",
       "      <td>2010-02-19</td>\n",
       "      <td>39.93</td>\n",
       "      <td>2.514</td>\n",
       "      <td>NaN</td>\n",
       "      <td>NaN</td>\n",
       "      <td>NaN</td>\n",
       "      <td>NaN</td>\n",
       "      <td>NaN</td>\n",
       "      <td>211.289143</td>\n",
       "      <td>8.106</td>\n",
       "      <td>0</td>\n",
       "      <td>161.0</td>\n",
       "      <td>0</td>\n",
       "    </tr>\n",
       "    <tr>\n",
       "      <th>3</th>\n",
       "      <td>1</td>\n",
       "      <td>2010-02-26</td>\n",
       "      <td>46.63</td>\n",
       "      <td>2.561</td>\n",
       "      <td>NaN</td>\n",
       "      <td>NaN</td>\n",
       "      <td>NaN</td>\n",
       "      <td>NaN</td>\n",
       "      <td>NaN</td>\n",
       "      <td>211.319643</td>\n",
       "      <td>8.106</td>\n",
       "      <td>0</td>\n",
       "      <td>140.0</td>\n",
       "      <td>0</td>\n",
       "    </tr>\n",
       "    <tr>\n",
       "      <th>4</th>\n",
       "      <td>1</td>\n",
       "      <td>2010-03-05</td>\n",
       "      <td>46.50</td>\n",
       "      <td>2.625</td>\n",
       "      <td>NaN</td>\n",
       "      <td>NaN</td>\n",
       "      <td>NaN</td>\n",
       "      <td>NaN</td>\n",
       "      <td>NaN</td>\n",
       "      <td>211.350143</td>\n",
       "      <td>8.106</td>\n",
       "      <td>0</td>\n",
       "      <td>155.0</td>\n",
       "      <td>0</td>\n",
       "    </tr>\n",
       "  </tbody>\n",
       "</table>\n",
       "</div>"
      ],
      "text/plain": [
       "   Store       Date  Temperature  Fuel_Price  MarkDown1  MarkDown2  MarkDown3  \\\n",
       "0      1 2010-02-05        42.31       2.572        NaN        NaN        NaN   \n",
       "1      1 2010-02-12        38.51       2.548        NaN        NaN        NaN   \n",
       "2      1 2010-02-19        39.93       2.514        NaN        NaN        NaN   \n",
       "3      1 2010-02-26        46.63       2.561        NaN        NaN        NaN   \n",
       "4      1 2010-03-05        46.50       2.625        NaN        NaN        NaN   \n",
       "\n",
       "   MarkDown4  MarkDown5         CPI  Unemployment  IsHoliday  Weekly_Sales  \\\n",
       "0        NaN        NaN  211.096358         8.106          0         164.0   \n",
       "1        NaN        NaN  211.242170         8.106          1         164.0   \n",
       "2        NaN        NaN  211.289143         8.106          0         161.0   \n",
       "3        NaN        NaN  211.319643         8.106          0         140.0   \n",
       "4        NaN        NaN  211.350143         8.106          0         155.0   \n",
       "\n",
       "   Type  \n",
       "0     0  \n",
       "1     0  \n",
       "2     0  \n",
       "3     0  \n",
       "4     0  "
      ]
     },
     "execution_count": 20,
     "metadata": {},
     "output_type": "execute_result"
    }
   ],
   "source": [
    "main_df.head()"
   ]
  },
  {
   "cell_type": "markdown",
   "id": "80175129",
   "metadata": {},
   "source": [
    "#### Date Column\n",
    "\n",
    "We'll change the date column to year and weekofyear categorical values.\n",
    "\n",
    "We'll be using WeekOfYear because the final model should be able to predict the weekly sales for a given week"
   ]
  },
  {
   "cell_type": "code",
   "execution_count": 21,
   "id": "f9f22530",
   "metadata": {
    "ExecuteTime": {
     "end_time": "2022-11-28T13:46:08.598296Z",
     "start_time": "2022-11-28T13:46:08.439650Z"
    }
   },
   "outputs": [],
   "source": [
    "main_df_copy = main_df\n",
    "main_df_copy[\"Year\"] = main_df_copy.Date.dt.year\n",
    "main_df_copy[\"Week_of_Year\"] = main_df_copy.Date.dt.weekofyear\n",
    "\n",
    "# We'll be converting month and day to categorical values\n",
    "main_df_converted = pd.get_dummies(main_df_copy, columns=[\"Year\", \"Week_of_Year\"])\n",
    "\n",
    "# Remove column Date\n",
    "main_df_converted.drop(\"Date\", axis=1, inplace=True)"
   ]
  },
  {
   "cell_type": "code",
   "execution_count": 22,
   "id": "c47231af",
   "metadata": {
    "ExecuteTime": {
     "end_time": "2022-11-28T13:46:20.213671Z",
     "start_time": "2022-11-28T13:46:20.175691Z"
    }
   },
   "outputs": [
    {
     "data": {
      "text/html": [
       "<div>\n",
       "<style scoped>\n",
       "    .dataframe tbody tr th:only-of-type {\n",
       "        vertical-align: middle;\n",
       "    }\n",
       "\n",
       "    .dataframe tbody tr th {\n",
       "        vertical-align: top;\n",
       "    }\n",
       "\n",
       "    .dataframe thead th {\n",
       "        text-align: right;\n",
       "    }\n",
       "</style>\n",
       "<table border=\"1\" class=\"dataframe\">\n",
       "  <thead>\n",
       "    <tr style=\"text-align: right;\">\n",
       "      <th></th>\n",
       "      <th>Store</th>\n",
       "      <th>Temperature</th>\n",
       "      <th>Fuel_Price</th>\n",
       "      <th>MarkDown1</th>\n",
       "      <th>MarkDown2</th>\n",
       "      <th>MarkDown3</th>\n",
       "      <th>MarkDown4</th>\n",
       "      <th>MarkDown5</th>\n",
       "      <th>CPI</th>\n",
       "      <th>Unemployment</th>\n",
       "      <th>...</th>\n",
       "      <th>Week_of_Year_43</th>\n",
       "      <th>Week_of_Year_44</th>\n",
       "      <th>Week_of_Year_45</th>\n",
       "      <th>Week_of_Year_46</th>\n",
       "      <th>Week_of_Year_47</th>\n",
       "      <th>Week_of_Year_48</th>\n",
       "      <th>Week_of_Year_49</th>\n",
       "      <th>Week_of_Year_50</th>\n",
       "      <th>Week_of_Year_51</th>\n",
       "      <th>Week_of_Year_52</th>\n",
       "    </tr>\n",
       "  </thead>\n",
       "  <tbody>\n",
       "    <tr>\n",
       "      <th>0</th>\n",
       "      <td>1</td>\n",
       "      <td>42.31</td>\n",
       "      <td>2.572</td>\n",
       "      <td>NaN</td>\n",
       "      <td>NaN</td>\n",
       "      <td>NaN</td>\n",
       "      <td>NaN</td>\n",
       "      <td>NaN</td>\n",
       "      <td>211.096358</td>\n",
       "      <td>8.106</td>\n",
       "      <td>...</td>\n",
       "      <td>0</td>\n",
       "      <td>0</td>\n",
       "      <td>0</td>\n",
       "      <td>0</td>\n",
       "      <td>0</td>\n",
       "      <td>0</td>\n",
       "      <td>0</td>\n",
       "      <td>0</td>\n",
       "      <td>0</td>\n",
       "      <td>0</td>\n",
       "    </tr>\n",
       "    <tr>\n",
       "      <th>1</th>\n",
       "      <td>1</td>\n",
       "      <td>38.51</td>\n",
       "      <td>2.548</td>\n",
       "      <td>NaN</td>\n",
       "      <td>NaN</td>\n",
       "      <td>NaN</td>\n",
       "      <td>NaN</td>\n",
       "      <td>NaN</td>\n",
       "      <td>211.242170</td>\n",
       "      <td>8.106</td>\n",
       "      <td>...</td>\n",
       "      <td>0</td>\n",
       "      <td>0</td>\n",
       "      <td>0</td>\n",
       "      <td>0</td>\n",
       "      <td>0</td>\n",
       "      <td>0</td>\n",
       "      <td>0</td>\n",
       "      <td>0</td>\n",
       "      <td>0</td>\n",
       "      <td>0</td>\n",
       "    </tr>\n",
       "    <tr>\n",
       "      <th>2</th>\n",
       "      <td>1</td>\n",
       "      <td>39.93</td>\n",
       "      <td>2.514</td>\n",
       "      <td>NaN</td>\n",
       "      <td>NaN</td>\n",
       "      <td>NaN</td>\n",
       "      <td>NaN</td>\n",
       "      <td>NaN</td>\n",
       "      <td>211.289143</td>\n",
       "      <td>8.106</td>\n",
       "      <td>...</td>\n",
       "      <td>0</td>\n",
       "      <td>0</td>\n",
       "      <td>0</td>\n",
       "      <td>0</td>\n",
       "      <td>0</td>\n",
       "      <td>0</td>\n",
       "      <td>0</td>\n",
       "      <td>0</td>\n",
       "      <td>0</td>\n",
       "      <td>0</td>\n",
       "    </tr>\n",
       "    <tr>\n",
       "      <th>3</th>\n",
       "      <td>1</td>\n",
       "      <td>46.63</td>\n",
       "      <td>2.561</td>\n",
       "      <td>NaN</td>\n",
       "      <td>NaN</td>\n",
       "      <td>NaN</td>\n",
       "      <td>NaN</td>\n",
       "      <td>NaN</td>\n",
       "      <td>211.319643</td>\n",
       "      <td>8.106</td>\n",
       "      <td>...</td>\n",
       "      <td>0</td>\n",
       "      <td>0</td>\n",
       "      <td>0</td>\n",
       "      <td>0</td>\n",
       "      <td>0</td>\n",
       "      <td>0</td>\n",
       "      <td>0</td>\n",
       "      <td>0</td>\n",
       "      <td>0</td>\n",
       "      <td>0</td>\n",
       "    </tr>\n",
       "    <tr>\n",
       "      <th>4</th>\n",
       "      <td>1</td>\n",
       "      <td>46.50</td>\n",
       "      <td>2.625</td>\n",
       "      <td>NaN</td>\n",
       "      <td>NaN</td>\n",
       "      <td>NaN</td>\n",
       "      <td>NaN</td>\n",
       "      <td>NaN</td>\n",
       "      <td>211.350143</td>\n",
       "      <td>8.106</td>\n",
       "      <td>...</td>\n",
       "      <td>0</td>\n",
       "      <td>0</td>\n",
       "      <td>0</td>\n",
       "      <td>0</td>\n",
       "      <td>0</td>\n",
       "      <td>0</td>\n",
       "      <td>0</td>\n",
       "      <td>0</td>\n",
       "      <td>0</td>\n",
       "      <td>0</td>\n",
       "    </tr>\n",
       "  </tbody>\n",
       "</table>\n",
       "<p>5 rows × 69 columns</p>\n",
       "</div>"
      ],
      "text/plain": [
       "   Store  Temperature  Fuel_Price  MarkDown1  MarkDown2  MarkDown3  MarkDown4  \\\n",
       "0      1        42.31       2.572        NaN        NaN        NaN        NaN   \n",
       "1      1        38.51       2.548        NaN        NaN        NaN        NaN   \n",
       "2      1        39.93       2.514        NaN        NaN        NaN        NaN   \n",
       "3      1        46.63       2.561        NaN        NaN        NaN        NaN   \n",
       "4      1        46.50       2.625        NaN        NaN        NaN        NaN   \n",
       "\n",
       "   MarkDown5         CPI  Unemployment  ...  Week_of_Year_43  Week_of_Year_44  \\\n",
       "0        NaN  211.096358         8.106  ...                0                0   \n",
       "1        NaN  211.242170         8.106  ...                0                0   \n",
       "2        NaN  211.289143         8.106  ...                0                0   \n",
       "3        NaN  211.319643         8.106  ...                0                0   \n",
       "4        NaN  211.350143         8.106  ...                0                0   \n",
       "\n",
       "   Week_of_Year_45  Week_of_Year_46  Week_of_Year_47  Week_of_Year_48  \\\n",
       "0                0                0                0                0   \n",
       "1                0                0                0                0   \n",
       "2                0                0                0                0   \n",
       "3                0                0                0                0   \n",
       "4                0                0                0                0   \n",
       "\n",
       "   Week_of_Year_49  Week_of_Year_50  Week_of_Year_51  Week_of_Year_52  \n",
       "0                0                0                0                0  \n",
       "1                0                0                0                0  \n",
       "2                0                0                0                0  \n",
       "3                0                0                0                0  \n",
       "4                0                0                0                0  \n",
       "\n",
       "[5 rows x 69 columns]"
      ]
     },
     "execution_count": 22,
     "metadata": {},
     "output_type": "execute_result"
    }
   ],
   "source": [
    "main_df_converted.head()"
   ]
  },
  {
   "cell_type": "code",
   "execution_count": 23,
   "id": "dff89163",
   "metadata": {
    "ExecuteTime": {
     "end_time": "2022-11-28T13:46:30.781379Z",
     "start_time": "2022-11-28T13:46:30.750418Z"
    }
   },
   "outputs": [
    {
     "name": "stdout",
     "output_type": "stream",
     "text": [
      "<class 'pandas.core.frame.DataFrame'>\n",
      "Int64Index: 8190 entries, 0 to 8189\n",
      "Data columns (total 69 columns):\n",
      " #   Column           Non-Null Count  Dtype  \n",
      "---  ------           --------------  -----  \n",
      " 0   Store            8190 non-null   int64  \n",
      " 1   Temperature      8190 non-null   float64\n",
      " 2   Fuel_Price       8190 non-null   float64\n",
      " 3   MarkDown1        4032 non-null   float64\n",
      " 4   MarkDown2        2921 non-null   float64\n",
      " 5   MarkDown3        3613 non-null   float64\n",
      " 6   MarkDown4        3464 non-null   float64\n",
      " 7   MarkDown5        4050 non-null   float64\n",
      " 8   CPI              7605 non-null   float64\n",
      " 9   Unemployment     7605 non-null   float64\n",
      " 10  IsHoliday        8190 non-null   int32  \n",
      " 11  Weekly_Sales     6435 non-null   float64\n",
      " 12  Type             8190 non-null   int32  \n",
      " 13  Year_2010        8190 non-null   uint8  \n",
      " 14  Year_2011        8190 non-null   uint8  \n",
      " 15  Year_2012        8190 non-null   uint8  \n",
      " 16  Year_2013        8190 non-null   uint8  \n",
      " 17  Week_of_Year_1   8190 non-null   uint8  \n",
      " 18  Week_of_Year_2   8190 non-null   uint8  \n",
      " 19  Week_of_Year_3   8190 non-null   uint8  \n",
      " 20  Week_of_Year_4   8190 non-null   uint8  \n",
      " 21  Week_of_Year_5   8190 non-null   uint8  \n",
      " 22  Week_of_Year_6   8190 non-null   uint8  \n",
      " 23  Week_of_Year_7   8190 non-null   uint8  \n",
      " 24  Week_of_Year_8   8190 non-null   uint8  \n",
      " 25  Week_of_Year_9   8190 non-null   uint8  \n",
      " 26  Week_of_Year_10  8190 non-null   uint8  \n",
      " 27  Week_of_Year_11  8190 non-null   uint8  \n",
      " 28  Week_of_Year_12  8190 non-null   uint8  \n",
      " 29  Week_of_Year_13  8190 non-null   uint8  \n",
      " 30  Week_of_Year_14  8190 non-null   uint8  \n",
      " 31  Week_of_Year_15  8190 non-null   uint8  \n",
      " 32  Week_of_Year_16  8190 non-null   uint8  \n",
      " 33  Week_of_Year_17  8190 non-null   uint8  \n",
      " 34  Week_of_Year_18  8190 non-null   uint8  \n",
      " 35  Week_of_Year_19  8190 non-null   uint8  \n",
      " 36  Week_of_Year_20  8190 non-null   uint8  \n",
      " 37  Week_of_Year_21  8190 non-null   uint8  \n",
      " 38  Week_of_Year_22  8190 non-null   uint8  \n",
      " 39  Week_of_Year_23  8190 non-null   uint8  \n",
      " 40  Week_of_Year_24  8190 non-null   uint8  \n",
      " 41  Week_of_Year_25  8190 non-null   uint8  \n",
      " 42  Week_of_Year_26  8190 non-null   uint8  \n",
      " 43  Week_of_Year_27  8190 non-null   uint8  \n",
      " 44  Week_of_Year_28  8190 non-null   uint8  \n",
      " 45  Week_of_Year_29  8190 non-null   uint8  \n",
      " 46  Week_of_Year_30  8190 non-null   uint8  \n",
      " 47  Week_of_Year_31  8190 non-null   uint8  \n",
      " 48  Week_of_Year_32  8190 non-null   uint8  \n",
      " 49  Week_of_Year_33  8190 non-null   uint8  \n",
      " 50  Week_of_Year_34  8190 non-null   uint8  \n",
      " 51  Week_of_Year_35  8190 non-null   uint8  \n",
      " 52  Week_of_Year_36  8190 non-null   uint8  \n",
      " 53  Week_of_Year_37  8190 non-null   uint8  \n",
      " 54  Week_of_Year_38  8190 non-null   uint8  \n",
      " 55  Week_of_Year_39  8190 non-null   uint8  \n",
      " 56  Week_of_Year_40  8190 non-null   uint8  \n",
      " 57  Week_of_Year_41  8190 non-null   uint8  \n",
      " 58  Week_of_Year_42  8190 non-null   uint8  \n",
      " 59  Week_of_Year_43  8190 non-null   uint8  \n",
      " 60  Week_of_Year_44  8190 non-null   uint8  \n",
      " 61  Week_of_Year_45  8190 non-null   uint8  \n",
      " 62  Week_of_Year_46  8190 non-null   uint8  \n",
      " 63  Week_of_Year_47  8190 non-null   uint8  \n",
      " 64  Week_of_Year_48  8190 non-null   uint8  \n",
      " 65  Week_of_Year_49  8190 non-null   uint8  \n",
      " 66  Week_of_Year_50  8190 non-null   uint8  \n",
      " 67  Week_of_Year_51  8190 non-null   uint8  \n",
      " 68  Week_of_Year_52  8190 non-null   uint8  \n",
      "dtypes: float64(10), int32(2), int64(1), uint8(56)\n",
      "memory usage: 1.2 MB\n"
     ]
    }
   ],
   "source": [
    "main_df_converted.info()"
   ]
  },
  {
   "cell_type": "markdown",
   "id": "58327898",
   "metadata": {},
   "source": [
    "### Dealing with Missing Values"
   ]
  },
  {
   "cell_type": "markdown",
   "id": "f4cad4ca",
   "metadata": {},
   "source": [
    "#### Using the Iterative Imputer from Sklearn to Remove Missing Data\n",
    "\n",
    "\n",
    "Cited from Scikit-Learn Documentation:\n",
    "\n",
    "IterativeImputer class, which models each feature with missing values as a function of other features, and uses that estimate for imputation. It does so in an iterated round-robin fashion: at each step, a feature column is designated as output y and the other feature columns are treated as inputs X. A regressor is fit on (X, y) for known y. Then, the regressor is used to predict the missing values of y. This is done for each feature in an iterative fashion, and then is repeated for max_iter imputation rounds. The results of the final imputation round are returned.\n",
    "\n",
    "\n",
    "\n",
    "Use only the training data in order to fit the imputer and for validation and test data, the imputer should only be used in order to transform the features. In that way, data leakage shall be avoided."
   ]
  },
  {
   "cell_type": "code",
   "execution_count": 24,
   "id": "ca408cc2",
   "metadata": {
    "ExecuteTime": {
     "end_time": "2022-11-28T13:51:54.547923Z",
     "start_time": "2022-11-28T13:51:54.532930Z"
    }
   },
   "outputs": [],
   "source": [
    "main_df_converted['CPI'].fillna((main_df_converted['CPI'].mean()), inplace=True)\n",
    "main_df_converted['Unemployment'].fillna((main_df_converted['Unemployment'].mean()), inplace=True)"
   ]
  },
  {
   "cell_type": "code",
   "execution_count": 26,
   "id": "85431102",
   "metadata": {
    "ExecuteTime": {
     "end_time": "2022-11-28T13:58:09.674621Z",
     "start_time": "2022-11-28T13:58:02.585667Z"
    }
   },
   "outputs": [],
   "source": [
    "from sklearn.experimental import enable_iterative_imputer\n",
    "from sklearn.impute import IterativeImputer\n",
    "\n",
    "itt = IterativeImputer()\n",
    "df = itt.fit_transform(main_df_converted[[\"MarkDown1\",\"MarkDown2\",\"MarkDown3\",\"MarkDown4\",\"MarkDown5\"]]) \n",
    "main_df_converted.MarkDown1 = df[:,0]\n",
    "main_df_converted.MarkDown2 = df[:,1]\n",
    "main_df_converted.MarkDown3 = df[:,2]\n",
    "main_df_converted.MarkDown4 = df[:,3]\n",
    "main_df_converted.MarkDown5 = df[:,4]"
   ]
  },
  {
   "cell_type": "markdown",
   "id": "b6361f71",
   "metadata": {},
   "source": [
    "### Feature Engineering"
   ]
  },
  {
   "cell_type": "markdown",
   "id": "89566a4d",
   "metadata": {},
   "source": [
    "#### Splitting the Data Into X and Y"
   ]
  },
  {
   "cell_type": "code",
   "execution_count": 29,
   "id": "293fe621",
   "metadata": {
    "ExecuteTime": {
     "end_time": "2022-11-28T14:01:56.391427Z",
     "start_time": "2022-11-28T14:01:56.164646Z"
    }
   },
   "outputs": [],
   "source": [
    "from sklearn.model_selection import train_test_split\n",
    "\n",
    "\n",
    "data_train = main_df_converted[main_df_converted.Weekly_Sales.notnull()]\n",
    "data_test = main_df_converted[main_df_converted.Weekly_Sales.isnull()]\n",
    "\n",
    "# All from Data_Train\n",
    "X = data_train.drop('Weekly_Sales', axis=1)\n",
    "y = data_train['Weekly_Sales']\n",
    "from sklearn.model_selection import train_test_split\n",
    "X_train, X_test, Y_train, Y_test = train_test_split(X, y, test_size=0.2)"
   ]
  },
  {
   "cell_type": "markdown",
   "id": "860db4f9",
   "metadata": {},
   "source": [
    "#### Check Features for Importance on Target"
   ]
  },
  {
   "cell_type": "code",
   "execution_count": 35,
   "id": "69e60baa",
   "metadata": {
    "ExecuteTime": {
     "end_time": "2022-11-28T14:57:29.938028Z",
     "start_time": "2022-11-28T14:57:29.435945Z"
    }
   },
   "outputs": [],
   "source": [
    "from sklearn.feature_selection import SelectKBest\n",
    "from sklearn.feature_selection import f_regression\n",
    "\n",
    "def select_features(X_train, y_train, X_test):\n",
    "    # configure to select all features\n",
    "    fs = SelectKBest(score_func=f_regression, k='all')\n",
    "    # learn relationship from training data\n",
    "    fs.fit(X_train, y_train)\n",
    "    # transform train input data\n",
    "    X_train_fs = fs.transform(X_train)\n",
    "    # transform test input data\n",
    "    X_test_fs = fs.transform(X_test)\n",
    "    \n",
    "    return X_train_fs, X_test_fs, fs"
   ]
  },
  {
   "cell_type": "code",
   "execution_count": 38,
   "id": "ee4d0512",
   "metadata": {
    "ExecuteTime": {
     "end_time": "2022-11-28T15:07:20.034840Z",
     "start_time": "2022-11-28T15:07:19.965878Z"
    }
   },
   "outputs": [
    {
     "name": "stdout",
     "output_type": "stream",
     "text": [
      "Feature Store: 643.6801825799794\n",
      "Feature Temperature: 28.18624245663024\n",
      "Feature Fuel_Price: 0.5048404523293365\n",
      "Feature MarkDown1: 195.2358547103631\n",
      "Feature MarkDown2: 11.889274852531285\n",
      "Feature MarkDown3: 38.04550890943692\n",
      "Feature MarkDown4: 121.50481698178349\n",
      "Feature MarkDown5: 178.46763376336207\n",
      "Feature CPI: 30.202062971332648\n",
      "Feature Unemployment: 57.66144564493646\n",
      "Feature IsHoliday: 8.744303887150036\n",
      "Feature Type: 2880.0354825695636\n",
      "Feature Year_2010: 0.8966678138898242\n",
      "Feature Year_2011: 0.1513124905089336\n",
      "Feature Year_2012: 1.9183403331694306\n",
      "Feature Year_2013: 0.0\n",
      "Feature Week_of_Year_1: 1.4266186102653076\n",
      "Feature Week_of_Year_2: 2.7433184960180026\n",
      "Feature Week_of_Year_3: 4.00067120572303\n",
      "Feature Week_of_Year_4: 6.041895705407832\n",
      "Feature Week_of_Year_5: 0.22369977709863398\n",
      "Feature Week_of_Year_6: 1.4907369048869907\n",
      "Feature Week_of_Year_7: 0.05049430609202554\n",
      "Feature Week_of_Year_8: 0.44423999707631107\n",
      "Feature Week_of_Year_9: 0.33445993688691894\n",
      "Feature Week_of_Year_10: 0.007834457203267857\n",
      "Feature Week_of_Year_11: 0.5899713010906906\n",
      "Feature Week_of_Year_12: 1.2661117179949362\n",
      "Feature Week_of_Year_13: 0.250149740640293\n",
      "Feature Week_of_Year_14: 0.7684303418776974\n",
      "Feature Week_of_Year_15: 0.8684144134816849\n",
      "Feature Week_of_Year_16: 0.128319167855685\n",
      "Feature Week_of_Year_17: 1.9675883213001413\n",
      "Feature Week_of_Year_18: 0.009175716413151154\n",
      "Feature Week_of_Year_19: 0.754383392169604\n",
      "Feature Week_of_Year_20: 0.8313697635935199\n",
      "Feature Week_of_Year_21: 0.2989584326169451\n",
      "Feature Week_of_Year_22: 0.35138582454962214\n",
      "Feature Week_of_Year_23: 0.002185928543105423\n",
      "Feature Week_of_Year_24: 0.047729431919334216\n",
      "Feature Week_of_Year_25: 0.6232326220312853\n",
      "Feature Week_of_Year_26: 0.3265890512635228\n",
      "Feature Week_of_Year_27: 0.635670363525413\n",
      "Feature Week_of_Year_28: 0.4100290879045423\n",
      "Feature Week_of_Year_29: 0.47364675599480693\n",
      "Feature Week_of_Year_30: 1.7328982424490915\n",
      "Feature Week_of_Year_31: 0.037428479082673514\n",
      "Feature Week_of_Year_32: 0.4783905101668744\n",
      "Feature Week_of_Year_33: 0.06368854582508679\n",
      "Feature Week_of_Year_34: 8.45536177586605e-05\n",
      "Feature Week_of_Year_35: 0.34717793012881915\n",
      "Feature Week_of_Year_36: 0.0669506869042978\n",
      "Feature Week_of_Year_37: 0.5661052413462596\n",
      "Feature Week_of_Year_38: 4.0678230961522495\n",
      "Feature Week_of_Year_39: 8.650494681787004\n",
      "Feature Week_of_Year_40: 0.05772463476445606\n",
      "Feature Week_of_Year_41: 0.6549616982419337\n",
      "Feature Week_of_Year_42: 0.24966684670462752\n",
      "Feature Week_of_Year_43: 2.394256879791273\n",
      "Feature Week_of_Year_44: 0.4672484641263706\n",
      "Feature Week_of_Year_45: 0.000249762913088058\n",
      "Feature Week_of_Year_46: 0.0004228849209213058\n",
      "Feature Week_of_Year_47: 42.07502933428892\n",
      "Feature Week_of_Year_48: 0.3328661835393492\n",
      "Feature Week_of_Year_49: 9.804530740027351\n",
      "Feature Week_of_Year_50: 32.460769152635244\n",
      "Feature Week_of_Year_51: 124.37941360400046\n",
      "Feature Week_of_Year_52: 1.3836296028827937\n"
     ]
    }
   ],
   "source": [
    "features_list = list(data_train.drop(\"Weekly_Sales\", axis=1, inplace=False).columns)\n",
    "X_train_fs, X_test_fs, fs = select_features(X_train, Y_train, X_test)\n",
    "\n",
    "# To get the scores for the features\n",
    "for i in range(len(fs.scores_)):\n",
    "    print(f'Feature {features_list[i]}: {fs.scores_[i]}')"
   ]
  },
  {
   "cell_type": "code",
   "execution_count": 37,
   "id": "6c726ca8",
   "metadata": {
    "ExecuteTime": {
     "end_time": "2022-11-28T14:58:08.806587Z",
     "start_time": "2022-11-28T14:58:08.354637Z"
    }
   },
   "outputs": [
    {
     "data": {
      "image/png": "[encoded data removed]",
      "text/plain": [
       "<Figure size 720x576 with 1 Axes>"
      ]
     },
     "metadata": {
      "needs_background": "light"
     },
     "output_type": "display_data"
    }
   ],
   "source": [
    "# plot the scores\n",
    "plt.bar([i for i in range(len(fs.scores_))], fs.scores_)\n",
    "plt.show()"
   ]
  },
  {
   "cell_type": "markdown",
   "id": "4d03f228",
   "metadata": {},
   "source": [
    "###  Modelling"
   ]
  },
  {
   "cell_type": "code",
   "execution_count": 30,
   "id": "2b3aa896",
   "metadata": {
    "ExecuteTime": {
     "end_time": "2022-11-28T14:07:10.145337Z",
     "start_time": "2022-11-28T14:07:01.396228Z"
    }
   },
   "outputs": [],
   "source": [
    "from sklearn.metrics import mean_squared_error\n",
    "from sklearn.svm import SVR, LinearSVR, NuSVR\n",
    "from sklearn.linear_model import ElasticNet, Lasso, RidgeCV,LinearRegression\n",
    "from sklearn.kernel_ridge import KernelRidge\n",
    "from sklearn.tree import DecisionTreeRegressor\n",
    "from sklearn.ensemble import GradientBoostingRegressor,AdaBoostRegressor,RandomForestRegressor\n",
    "import xgboost as xgb\n",
    "import lightgbm as lgb"
   ]
  },
  {
   "cell_type": "code",
   "execution_count": 31,
   "id": "f9b49678",
   "metadata": {
    "ExecuteTime": {
     "end_time": "2022-11-28T14:09:04.285852Z",
     "start_time": "2022-11-28T14:07:32.843377Z"
    }
   },
   "outputs": [],
   "source": [
    "regressors = [\n",
    "    LinearRegression(),\n",
    "    ElasticNet(),\n",
    "    RidgeCV(alphas=[1e-3, 1e-2, 1e-1, 1]),\n",
    "    KernelRidge(alpha=0.6, kernel='polynomial', degree=3, coef0=2.5),\n",
    "    Lasso(alpha= 16, random_state=100),\n",
    "    ElasticNet(alpha=0.8),\n",
    "    DecisionTreeRegressor(),\n",
    "    RandomForestRegressor(),\n",
    "    GradientBoostingRegressor(),\n",
    "    AdaBoostRegressor(),\n",
    "    SVR(),\n",
    "    LinearSVR(),\n",
    "    NuSVR(),\n",
    "    xgb.XGBRegressor(),\n",
    "    lgb.LGBMRegressor()\n",
    "]\n",
    "\n",
    "name = []\n",
    "score = []\n",
    "models = []\n",
    "rmse = []\n",
    "i = 0\n",
    "\n",
    "for regressor in regressors:\n",
    "    regressor.fit(X_train, Y_train)\n",
    "    name.append(type(regressor).__name__)\n",
    "    score.append(regressor.score(X_test, Y_test))\n",
    "    models.append(regressor)\n",
    "    rmse.append(np.sqrt(mean_squared_error(regressor.predict(X_test), Y_test)))"
   ]
  },
  {
   "cell_type": "code",
   "execution_count": 33,
   "id": "e1033e8d",
   "metadata": {
    "ExecuteTime": {
     "end_time": "2022-11-28T14:33:43.856009Z",
     "start_time": "2022-11-28T14:33:43.589420Z"
    }
   },
   "outputs": [
    {
     "data": {
      "text/html": [
       "<div>\n",
       "<style scoped>\n",
       "    .dataframe tbody tr th:only-of-type {\n",
       "        vertical-align: middle;\n",
       "    }\n",
       "\n",
       "    .dataframe tbody tr th {\n",
       "        vertical-align: top;\n",
       "    }\n",
       "\n",
       "    .dataframe thead th {\n",
       "        text-align: right;\n",
       "    }\n",
       "</style>\n",
       "<table border=\"1\" class=\"dataframe\">\n",
       "  <thead>\n",
       "    <tr style=\"text-align: right;\">\n",
       "      <th></th>\n",
       "      <th>rmse</th>\n",
       "      <th>score</th>\n",
       "      <th>model</th>\n",
       "    </tr>\n",
       "    <tr>\n",
       "      <th>name</th>\n",
       "      <th></th>\n",
       "      <th></th>\n",
       "      <th></th>\n",
       "    </tr>\n",
       "  </thead>\n",
       "  <tbody>\n",
       "    <tr>\n",
       "      <th>KernelRidge</th>\n",
       "      <td>259.952420</td>\n",
       "      <td>-20.002581</td>\n",
       "      <td>KernelRidge(alpha=0.6, coef0=2.5, kernel='poly...</td>\n",
       "    </tr>\n",
       "    <tr>\n",
       "      <th>LinearSVR</th>\n",
       "      <td>95.640992</td>\n",
       "      <td>-1.842975</td>\n",
       "      <td>LinearSVR()</td>\n",
       "    </tr>\n",
       "    <tr>\n",
       "      <th>SVR</th>\n",
       "      <td>53.534792</td>\n",
       "      <td>0.109247</td>\n",
       "      <td>SVR()</td>\n",
       "    </tr>\n",
       "    <tr>\n",
       "      <th>NuSVR</th>\n",
       "      <td>53.446827</td>\n",
       "      <td>0.112172</td>\n",
       "      <td>NuSVR()</td>\n",
       "    </tr>\n",
       "    <tr>\n",
       "      <th>Lasso</th>\n",
       "      <td>48.538469</td>\n",
       "      <td>0.267754</td>\n",
       "      <td>Lasso(alpha=16, random_state=100)</td>\n",
       "    </tr>\n",
       "    <tr>\n",
       "      <th>ElasticNet</th>\n",
       "      <td>44.718490</td>\n",
       "      <td>0.378474</td>\n",
       "      <td>ElasticNet()</td>\n",
       "    </tr>\n",
       "    <tr>\n",
       "      <th>ElasticNet</th>\n",
       "      <td>44.207383</td>\n",
       "      <td>0.392600</td>\n",
       "      <td>ElasticNet(alpha=0.8)</td>\n",
       "    </tr>\n",
       "    <tr>\n",
       "      <th>LinearRegression</th>\n",
       "      <td>40.990781</td>\n",
       "      <td>0.477775</td>\n",
       "      <td>LinearRegression()</td>\n",
       "    </tr>\n",
       "    <tr>\n",
       "      <th>RidgeCV</th>\n",
       "      <td>40.975489</td>\n",
       "      <td>0.478165</td>\n",
       "      <td>RidgeCV(alphas=[0.001, 0.01, 0.1, 1])</td>\n",
       "    </tr>\n",
       "    <tr>\n",
       "      <th>AdaBoostRegressor</th>\n",
       "      <td>36.715437</td>\n",
       "      <td>0.581031</td>\n",
       "      <td>(DecisionTreeRegressor(max_depth=3, random_sta...</td>\n",
       "    </tr>\n",
       "    <tr>\n",
       "      <th>GradientBoostingRegressor</th>\n",
       "      <td>15.070498</td>\n",
       "      <td>0.929410</td>\n",
       "      <td>([DecisionTreeRegressor(criterion='friedman_ms...</td>\n",
       "    </tr>\n",
       "    <tr>\n",
       "      <th>DecisionTreeRegressor</th>\n",
       "      <td>11.581038</td>\n",
       "      <td>0.958315</td>\n",
       "      <td>DecisionTreeRegressor()</td>\n",
       "    </tr>\n",
       "    <tr>\n",
       "      <th>RandomForestRegressor</th>\n",
       "      <td>10.028097</td>\n",
       "      <td>0.968745</td>\n",
       "      <td>(DecisionTreeRegressor(max_features=1.0, rando...</td>\n",
       "    </tr>\n",
       "    <tr>\n",
       "      <th>LGBMRegressor</th>\n",
       "      <td>8.993433</td>\n",
       "      <td>0.974862</td>\n",
       "      <td>LGBMRegressor()</td>\n",
       "    </tr>\n",
       "    <tr>\n",
       "      <th>XGBRegressor</th>\n",
       "      <td>8.025088</td>\n",
       "      <td>0.979984</td>\n",
       "      <td>XGBRegressor(base_score=0.5, booster='gbtree',...</td>\n",
       "    </tr>\n",
       "  </tbody>\n",
       "</table>\n",
       "</div>"
      ],
      "text/plain": [
       "                                 rmse      score  \\\n",
       "name                                               \n",
       "KernelRidge                259.952420 -20.002581   \n",
       "LinearSVR                   95.640992  -1.842975   \n",
       "SVR                         53.534792   0.109247   \n",
       "NuSVR                       53.446827   0.112172   \n",
       "Lasso                       48.538469   0.267754   \n",
       "ElasticNet                  44.718490   0.378474   \n",
       "ElasticNet                  44.207383   0.392600   \n",
       "LinearRegression            40.990781   0.477775   \n",
       "RidgeCV                     40.975489   0.478165   \n",
       "AdaBoostRegressor           36.715437   0.581031   \n",
       "GradientBoostingRegressor   15.070498   0.929410   \n",
       "DecisionTreeRegressor       11.581038   0.958315   \n",
       "RandomForestRegressor       10.028097   0.968745   \n",
       "LGBMRegressor                8.993433   0.974862   \n",
       "XGBRegressor                 8.025088   0.979984   \n",
       "\n",
       "                                                                       model  \n",
       "name                                                                          \n",
       "KernelRidge                KernelRidge(alpha=0.6, coef0=2.5, kernel='poly...  \n",
       "LinearSVR                                                        LinearSVR()  \n",
       "SVR                                                                    SVR()  \n",
       "NuSVR                                                                NuSVR()  \n",
       "Lasso                                      Lasso(alpha=16, random_state=100)  \n",
       "ElasticNet                                                      ElasticNet()  \n",
       "ElasticNet                                             ElasticNet(alpha=0.8)  \n",
       "LinearRegression                                          LinearRegression()  \n",
       "RidgeCV                                RidgeCV(alphas=[0.001, 0.01, 0.1, 1])  \n",
       "AdaBoostRegressor          (DecisionTreeRegressor(max_depth=3, random_sta...  \n",
       "GradientBoostingRegressor  ([DecisionTreeRegressor(criterion='friedman_ms...  \n",
       "DecisionTreeRegressor                                DecisionTreeRegressor()  \n",
       "RandomForestRegressor      (DecisionTreeRegressor(max_features=1.0, rando...  \n",
       "LGBMRegressor                                                LGBMRegressor()  \n",
       "XGBRegressor               XGBRegressor(base_score=0.5, booster='gbtree',...  "
      ]
     },
     "execution_count": 33,
     "metadata": {},
     "output_type": "execute_result"
    }
   ],
   "source": [
    "df_score = pd.DataFrame(list(zip(name,rmse, score, models)),columns=['name','rmse','score',\"model\"])\n",
    "df_score.set_index('name',inplace=True)\n",
    "df_score.sort_values(by=['score'],inplace=True)\n",
    "df_score"
   ]
  },
  {
   "cell_type": "code",
   "execution_count": 34,
   "id": "fab9170e",
   "metadata": {
    "ExecuteTime": {
     "end_time": "2022-11-28T14:34:40.217456Z",
     "start_time": "2022-11-28T14:34:40.026734Z"
    }
   },
   "outputs": [
    {
     "data": {
      "text/plain": [
       "array([172.12772 , 164.5676  , 163.72073 , ...,  77.77918 ,  77.19886 ,\n",
       "        77.189606], dtype=float32)"
      ]
     },
     "execution_count": 34,
     "metadata": {},
     "output_type": "execute_result"
    }
   ],
   "source": [
    "model = df_score.loc[\"XGBRegressor\",\"model\"]\n",
    "data_test.drop(['Weekly_Sales'],axis=1,inplace=True)\n",
    "predict = model.predict(data_test)\n",
    "predict"
   ]
  },
  {
   "cell_type": "code",
   "execution_count": null,
   "id": "c4d0e9b5",
   "metadata": {},
   "outputs": [],
   "source": []
  },
  {
   "cell_type": "code",
   "execution_count": null,
   "id": "e9d3cc05",
   "metadata": {},
   "outputs": [],
   "source": []
  },
  {
   "cell_type": "code",
   "execution_count": null,
   "id": "31c92997",
   "metadata": {},
   "outputs": [],
   "source": []
  },
  {
   "cell_type": "code",
   "execution_count": null,
   "id": "4d7f730a",
   "metadata": {},
   "outputs": [],
   "source": []
  }
 ],
 "metadata": {
  "kernelspec": {
   "display_name": "Python 3 (ipykernel)",
   "language": "python",
   "name": "python3"
  },
  "language_info": {
   "codemirror_mode": {
    "name": "ipython",
    "version": 3
   },
   "file_extension": ".py",
   "mimetype": "text/x-python",
   "name": "python",
   "nbconvert_exporter": "python",
   "pygments_lexer": "ipython3",
   "version": "3.9.7"
  },
  "toc": {
   "base_numbering": 1,
   "nav_menu": {},
   "number_sections": true,
   "sideBar": true,
   "skip_h1_title": false,
   "title_cell": "Table of Contents",
   "title_sidebar": "Contents",
   "toc_cell": false,
   "toc_position": {},
   "toc_section_display": true,
   "toc_window_display": false
  },
  "varInspector": {
   "cols": {
    "lenName": 16,
    "lenType": 16,
    "lenVar": 40
   },
   "kernels_config": {
    "python": {
     "delete_cmd_postfix": "",
     "delete_cmd_prefix": "del ",
     "library": "var_list.py",
     "varRefreshCmd": "print(var_dic_list())"
    },
    "r": {
     "delete_cmd_postfix": ") ",
     "delete_cmd_prefix": "rm(",
     "library": "var_list.r",
     "varRefreshCmd": "cat(var_dic_list()) "
    }
   },
   "types_to_exclude": [
    "module",
    "function",
    "builtin_function_or_method",
    "instance",
    "_Feature"
   ],
   "window_display": false
  }
 },
 "nbformat": 4,
 "nbformat_minor": 5
}
