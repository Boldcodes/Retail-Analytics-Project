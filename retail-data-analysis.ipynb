{
 "cells": [
  {
   "cell_type": "markdown",
   "metadata": {
    "papermill": {
     "duration": 0.015288,
     "end_time": "2020-08-11T08:40:49.791653",
     "exception": false,
     "start_time": "2020-08-11T08:40:49.776365",
     "status": "completed"
    },
    "tags": []
   },
   "source": [
    "![Retail](https://www.xpandretail.com/wp-content/uploads/2018/11/Screen-Shot-2018-11-26-at-2.10.07-PM.png)"
   ]
  },
  {
   "cell_type": "markdown",
   "metadata": {
    "papermill": {
     "duration": 0.014697,
     "end_time": "2020-08-11T08:40:49.820455",
     "exception": false,
     "start_time": "2020-08-11T08:40:49.805758",
     "status": "completed"
    },
    "tags": []
   },
   "source": [
    "<br>Content:\n",
    "* [Sneak Peek into the Data](#1)\n",
    "* [Analysis Datewise](#2)\n",
    "* [Analysis Storewise](#3)\n",
    "* [Analysis Departmentwise](#4)\n",
    "* [Analysis Store Type and Year/Month Wise](#5) \n",
    "* [Analysis of MarkDown](#6)\n",
    "* [Prediction on Date and Store](#7)"
   ]
  },
  {
   "cell_type": "code",
   "execution_count": 1,
   "metadata": {
    "ExecuteTime": {
     "end_time": "2022-11-27T22:00:16.553396Z",
     "start_time": "2022-11-27T22:00:14.079461Z"
    },
    "_cell_guid": "b1076dfc-b9ad-4769-8c92-a6c4dae69d19",
    "_kg_hide-input": true,
    "_uuid": "8f2839f25d086af736a60e9eeb907d3b93b6e0e5",
    "execution": {
     "iopub.execute_input": "2020-08-11T08:40:49.854548Z",
     "iopub.status.busy": "2020-08-11T08:40:49.853649Z",
     "iopub.status.idle": "2020-08-11T08:40:51.196975Z",
     "shell.execute_reply": "2020-08-11T08:40:51.196278Z"
    },
    "papermill": {
     "duration": 1.363341,
     "end_time": "2020-08-11T08:40:51.197144",
     "exception": false,
     "start_time": "2020-08-11T08:40:49.833803",
     "status": "completed"
    },
    "tags": []
   },
   "outputs": [],
   "source": [
    "import numpy as np # linear algebra\n",
    "import pandas as pd # data processing, CSV file I/O (e.g. pd.read_csv)\n",
    "import matplotlib.pyplot as plt\n",
    "import seaborn as sns\n",
    "import warnings\n",
    "warnings.filterwarnings('ignore')"
   ]
  },
  {
   "cell_type": "code",
   "execution_count": 2,
   "metadata": {
    "ExecuteTime": {
     "end_time": "2022-11-27T22:00:17.291056Z",
     "start_time": "2022-11-27T22:00:16.557394Z"
    },
    "_cell_guid": "79c7e3d0-c299-4dcb-8224-4455121ee9b0",
    "_uuid": "d629ff2d2480ee46fbb7e2d37f6b5fab8052498a",
    "execution": {
     "iopub.execute_input": "2020-08-11T08:40:51.236979Z",
     "iopub.status.busy": "2020-08-11T08:40:51.235807Z",
     "iopub.status.idle": "2020-08-11T08:40:51.661683Z",
     "shell.execute_reply": "2020-08-11T08:40:51.660766Z"
    },
    "papermill": {
     "duration": 0.450229,
     "end_time": "2020-08-11T08:40:51.661829",
     "exception": false,
     "start_time": "2020-08-11T08:40:51.211600",
     "status": "completed"
    },
    "tags": []
   },
   "outputs": [
    {
     "ename": "FileNotFoundError",
     "evalue": "[Errno 2] No such file or directory: '/kaggle/input/retaildataset/stores data-set.csv'",
     "output_type": "error",
     "traceback": [
      "\u001b[1;31m---------------------------------------------------------------------------\u001b[0m",
      "\u001b[1;31mFileNotFoundError\u001b[0m                         Traceback (most recent call last)",
      "\u001b[1;32m~\\AppData\\Local\\Temp/ipykernel_13432/1904378856.py\u001b[0m in \u001b[0;36m<module>\u001b[1;34m\u001b[0m\n\u001b[1;32m----> 1\u001b[1;33m \u001b[0mdf_store\u001b[0m \u001b[1;33m=\u001b[0m \u001b[0mpd\u001b[0m\u001b[1;33m.\u001b[0m\u001b[0mread_csv\u001b[0m\u001b[1;33m(\u001b[0m\u001b[1;34m\"/kaggle/input/retaildataset/stores data-set.csv\"\u001b[0m\u001b[1;33m)\u001b[0m\u001b[1;33m\u001b[0m\u001b[1;33m\u001b[0m\u001b[0m\n\u001b[0m\u001b[0;32m      2\u001b[0m \u001b[0mdf_feature\u001b[0m \u001b[1;33m=\u001b[0m \u001b[0mpd\u001b[0m\u001b[1;33m.\u001b[0m\u001b[0mread_csv\u001b[0m\u001b[1;33m(\u001b[0m\u001b[1;34m\"/kaggle/input/retaildataset/Features data set.csv\"\u001b[0m\u001b[1;33m,\u001b[0m\u001b[0mparse_dates\u001b[0m\u001b[1;33m=\u001b[0m\u001b[1;33m[\u001b[0m\u001b[1;34m\"Date\"\u001b[0m\u001b[1;33m]\u001b[0m\u001b[1;33m)\u001b[0m\u001b[1;33m\u001b[0m\u001b[1;33m\u001b[0m\u001b[0m\n\u001b[0;32m      3\u001b[0m \u001b[0mdf_sales\u001b[0m \u001b[1;33m=\u001b[0m \u001b[0mpd\u001b[0m\u001b[1;33m.\u001b[0m\u001b[0mread_csv\u001b[0m\u001b[1;33m(\u001b[0m\u001b[1;34m\"/kaggle/input/retaildataset/sales data-set.csv\"\u001b[0m\u001b[1;33m,\u001b[0m\u001b[0mparse_dates\u001b[0m\u001b[1;33m=\u001b[0m\u001b[1;33m[\u001b[0m\u001b[1;34m\"Date\"\u001b[0m\u001b[1;33m]\u001b[0m\u001b[1;33m)\u001b[0m\u001b[1;33m\u001b[0m\u001b[1;33m\u001b[0m\u001b[0m\n",
      "\u001b[1;32mC:\\ProgramData\\Anaconda3\\lib\\site-packages\\pandas\\util\\_decorators.py\u001b[0m in \u001b[0;36mwrapper\u001b[1;34m(*args, **kwargs)\u001b[0m\n\u001b[0;32m    309\u001b[0m                     \u001b[0mstacklevel\u001b[0m\u001b[1;33m=\u001b[0m\u001b[0mstacklevel\u001b[0m\u001b[1;33m,\u001b[0m\u001b[1;33m\u001b[0m\u001b[1;33m\u001b[0m\u001b[0m\n\u001b[0;32m    310\u001b[0m                 )\n\u001b[1;32m--> 311\u001b[1;33m             \u001b[1;32mreturn\u001b[0m \u001b[0mfunc\u001b[0m\u001b[1;33m(\u001b[0m\u001b[1;33m*\u001b[0m\u001b[0margs\u001b[0m\u001b[1;33m,\u001b[0m \u001b[1;33m**\u001b[0m\u001b[0mkwargs\u001b[0m\u001b[1;33m)\u001b[0m\u001b[1;33m\u001b[0m\u001b[1;33m\u001b[0m\u001b[0m\n\u001b[0m\u001b[0;32m    312\u001b[0m \u001b[1;33m\u001b[0m\u001b[0m\n\u001b[0;32m    313\u001b[0m         \u001b[1;32mreturn\u001b[0m \u001b[0mwrapper\u001b[0m\u001b[1;33m\u001b[0m\u001b[1;33m\u001b[0m\u001b[0m\n",
      "\u001b[1;32mC:\\ProgramData\\Anaconda3\\lib\\site-packages\\pandas\\io\\parsers\\readers.py\u001b[0m in \u001b[0;36mread_csv\u001b[1;34m(filepath_or_buffer, sep, delimiter, header, names, index_col, usecols, squeeze, prefix, mangle_dupe_cols, dtype, engine, converters, true_values, false_values, skipinitialspace, skiprows, skipfooter, nrows, na_values, keep_default_na, na_filter, verbose, skip_blank_lines, parse_dates, infer_datetime_format, keep_date_col, date_parser, dayfirst, cache_dates, iterator, chunksize, compression, thousands, decimal, lineterminator, quotechar, quoting, doublequote, escapechar, comment, encoding, encoding_errors, dialect, error_bad_lines, warn_bad_lines, on_bad_lines, delim_whitespace, low_memory, memory_map, float_precision, storage_options)\u001b[0m\n\u001b[0;32m    584\u001b[0m     \u001b[0mkwds\u001b[0m\u001b[1;33m.\u001b[0m\u001b[0mupdate\u001b[0m\u001b[1;33m(\u001b[0m\u001b[0mkwds_defaults\u001b[0m\u001b[1;33m)\u001b[0m\u001b[1;33m\u001b[0m\u001b[1;33m\u001b[0m\u001b[0m\n\u001b[0;32m    585\u001b[0m \u001b[1;33m\u001b[0m\u001b[0m\n\u001b[1;32m--> 586\u001b[1;33m     \u001b[1;32mreturn\u001b[0m \u001b[0m_read\u001b[0m\u001b[1;33m(\u001b[0m\u001b[0mfilepath_or_buffer\u001b[0m\u001b[1;33m,\u001b[0m \u001b[0mkwds\u001b[0m\u001b[1;33m)\u001b[0m\u001b[1;33m\u001b[0m\u001b[1;33m\u001b[0m\u001b[0m\n\u001b[0m\u001b[0;32m    587\u001b[0m \u001b[1;33m\u001b[0m\u001b[0m\n\u001b[0;32m    588\u001b[0m \u001b[1;33m\u001b[0m\u001b[0m\n",
      "\u001b[1;32mC:\\ProgramData\\Anaconda3\\lib\\site-packages\\pandas\\io\\parsers\\readers.py\u001b[0m in \u001b[0;36m_read\u001b[1;34m(filepath_or_buffer, kwds)\u001b[0m\n\u001b[0;32m    480\u001b[0m \u001b[1;33m\u001b[0m\u001b[0m\n\u001b[0;32m    481\u001b[0m     \u001b[1;31m# Create the parser.\u001b[0m\u001b[1;33m\u001b[0m\u001b[1;33m\u001b[0m\u001b[0m\n\u001b[1;32m--> 482\u001b[1;33m     \u001b[0mparser\u001b[0m \u001b[1;33m=\u001b[0m \u001b[0mTextFileReader\u001b[0m\u001b[1;33m(\u001b[0m\u001b[0mfilepath_or_buffer\u001b[0m\u001b[1;33m,\u001b[0m \u001b[1;33m**\u001b[0m\u001b[0mkwds\u001b[0m\u001b[1;33m)\u001b[0m\u001b[1;33m\u001b[0m\u001b[1;33m\u001b[0m\u001b[0m\n\u001b[0m\u001b[0;32m    483\u001b[0m \u001b[1;33m\u001b[0m\u001b[0m\n\u001b[0;32m    484\u001b[0m     \u001b[1;32mif\u001b[0m \u001b[0mchunksize\u001b[0m \u001b[1;32mor\u001b[0m \u001b[0miterator\u001b[0m\u001b[1;33m:\u001b[0m\u001b[1;33m\u001b[0m\u001b[1;33m\u001b[0m\u001b[0m\n",
      "\u001b[1;32mC:\\ProgramData\\Anaconda3\\lib\\site-packages\\pandas\\io\\parsers\\readers.py\u001b[0m in \u001b[0;36m__init__\u001b[1;34m(self, f, engine, **kwds)\u001b[0m\n\u001b[0;32m    809\u001b[0m             \u001b[0mself\u001b[0m\u001b[1;33m.\u001b[0m\u001b[0moptions\u001b[0m\u001b[1;33m[\u001b[0m\u001b[1;34m\"has_index_names\"\u001b[0m\u001b[1;33m]\u001b[0m \u001b[1;33m=\u001b[0m \u001b[0mkwds\u001b[0m\u001b[1;33m[\u001b[0m\u001b[1;34m\"has_index_names\"\u001b[0m\u001b[1;33m]\u001b[0m\u001b[1;33m\u001b[0m\u001b[1;33m\u001b[0m\u001b[0m\n\u001b[0;32m    810\u001b[0m \u001b[1;33m\u001b[0m\u001b[0m\n\u001b[1;32m--> 811\u001b[1;33m         \u001b[0mself\u001b[0m\u001b[1;33m.\u001b[0m\u001b[0m_engine\u001b[0m \u001b[1;33m=\u001b[0m \u001b[0mself\u001b[0m\u001b[1;33m.\u001b[0m\u001b[0m_make_engine\u001b[0m\u001b[1;33m(\u001b[0m\u001b[0mself\u001b[0m\u001b[1;33m.\u001b[0m\u001b[0mengine\u001b[0m\u001b[1;33m)\u001b[0m\u001b[1;33m\u001b[0m\u001b[1;33m\u001b[0m\u001b[0m\n\u001b[0m\u001b[0;32m    812\u001b[0m \u001b[1;33m\u001b[0m\u001b[0m\n\u001b[0;32m    813\u001b[0m     \u001b[1;32mdef\u001b[0m \u001b[0mclose\u001b[0m\u001b[1;33m(\u001b[0m\u001b[0mself\u001b[0m\u001b[1;33m)\u001b[0m\u001b[1;33m:\u001b[0m\u001b[1;33m\u001b[0m\u001b[1;33m\u001b[0m\u001b[0m\n",
      "\u001b[1;32mC:\\ProgramData\\Anaconda3\\lib\\site-packages\\pandas\\io\\parsers\\readers.py\u001b[0m in \u001b[0;36m_make_engine\u001b[1;34m(self, engine)\u001b[0m\n\u001b[0;32m   1038\u001b[0m             )\n\u001b[0;32m   1039\u001b[0m         \u001b[1;31m# error: Too many arguments for \"ParserBase\"\u001b[0m\u001b[1;33m\u001b[0m\u001b[1;33m\u001b[0m\u001b[0m\n\u001b[1;32m-> 1040\u001b[1;33m         \u001b[1;32mreturn\u001b[0m \u001b[0mmapping\u001b[0m\u001b[1;33m[\u001b[0m\u001b[0mengine\u001b[0m\u001b[1;33m]\u001b[0m\u001b[1;33m(\u001b[0m\u001b[0mself\u001b[0m\u001b[1;33m.\u001b[0m\u001b[0mf\u001b[0m\u001b[1;33m,\u001b[0m \u001b[1;33m**\u001b[0m\u001b[0mself\u001b[0m\u001b[1;33m.\u001b[0m\u001b[0moptions\u001b[0m\u001b[1;33m)\u001b[0m  \u001b[1;31m# type: ignore[call-arg]\u001b[0m\u001b[1;33m\u001b[0m\u001b[1;33m\u001b[0m\u001b[0m\n\u001b[0m\u001b[0;32m   1041\u001b[0m \u001b[1;33m\u001b[0m\u001b[0m\n\u001b[0;32m   1042\u001b[0m     \u001b[1;32mdef\u001b[0m \u001b[0m_failover_to_python\u001b[0m\u001b[1;33m(\u001b[0m\u001b[0mself\u001b[0m\u001b[1;33m)\u001b[0m\u001b[1;33m:\u001b[0m\u001b[1;33m\u001b[0m\u001b[1;33m\u001b[0m\u001b[0m\n",
      "\u001b[1;32mC:\\ProgramData\\Anaconda3\\lib\\site-packages\\pandas\\io\\parsers\\c_parser_wrapper.py\u001b[0m in \u001b[0;36m__init__\u001b[1;34m(self, src, **kwds)\u001b[0m\n\u001b[0;32m     49\u001b[0m \u001b[1;33m\u001b[0m\u001b[0m\n\u001b[0;32m     50\u001b[0m         \u001b[1;31m# open handles\u001b[0m\u001b[1;33m\u001b[0m\u001b[1;33m\u001b[0m\u001b[0m\n\u001b[1;32m---> 51\u001b[1;33m         \u001b[0mself\u001b[0m\u001b[1;33m.\u001b[0m\u001b[0m_open_handles\u001b[0m\u001b[1;33m(\u001b[0m\u001b[0msrc\u001b[0m\u001b[1;33m,\u001b[0m \u001b[0mkwds\u001b[0m\u001b[1;33m)\u001b[0m\u001b[1;33m\u001b[0m\u001b[1;33m\u001b[0m\u001b[0m\n\u001b[0m\u001b[0;32m     52\u001b[0m         \u001b[1;32massert\u001b[0m \u001b[0mself\u001b[0m\u001b[1;33m.\u001b[0m\u001b[0mhandles\u001b[0m \u001b[1;32mis\u001b[0m \u001b[1;32mnot\u001b[0m \u001b[1;32mNone\u001b[0m\u001b[1;33m\u001b[0m\u001b[1;33m\u001b[0m\u001b[0m\n\u001b[0;32m     53\u001b[0m \u001b[1;33m\u001b[0m\u001b[0m\n",
      "\u001b[1;32mC:\\ProgramData\\Anaconda3\\lib\\site-packages\\pandas\\io\\parsers\\base_parser.py\u001b[0m in \u001b[0;36m_open_handles\u001b[1;34m(self, src, kwds)\u001b[0m\n\u001b[0;32m    220\u001b[0m         \u001b[0mLet\u001b[0m \u001b[0mthe\u001b[0m \u001b[0mreaders\u001b[0m \u001b[0mopen\u001b[0m \u001b[0mIOHandles\u001b[0m \u001b[0mafter\u001b[0m \u001b[0mthey\u001b[0m \u001b[0mare\u001b[0m \u001b[0mdone\u001b[0m \u001b[1;32mwith\u001b[0m \u001b[0mtheir\u001b[0m \u001b[0mpotential\u001b[0m \u001b[0mraises\u001b[0m\u001b[1;33m.\u001b[0m\u001b[1;33m\u001b[0m\u001b[1;33m\u001b[0m\u001b[0m\n\u001b[0;32m    221\u001b[0m         \"\"\"\n\u001b[1;32m--> 222\u001b[1;33m         self.handles = get_handle(\n\u001b[0m\u001b[0;32m    223\u001b[0m             \u001b[0msrc\u001b[0m\u001b[1;33m,\u001b[0m\u001b[1;33m\u001b[0m\u001b[1;33m\u001b[0m\u001b[0m\n\u001b[0;32m    224\u001b[0m             \u001b[1;34m\"r\"\u001b[0m\u001b[1;33m,\u001b[0m\u001b[1;33m\u001b[0m\u001b[1;33m\u001b[0m\u001b[0m\n",
      "\u001b[1;32mC:\\ProgramData\\Anaconda3\\lib\\site-packages\\pandas\\io\\common.py\u001b[0m in \u001b[0;36mget_handle\u001b[1;34m(path_or_buf, mode, encoding, compression, memory_map, is_text, errors, storage_options)\u001b[0m\n\u001b[0;32m    700\u001b[0m         \u001b[1;32mif\u001b[0m \u001b[0mioargs\u001b[0m\u001b[1;33m.\u001b[0m\u001b[0mencoding\u001b[0m \u001b[1;32mand\u001b[0m \u001b[1;34m\"b\"\u001b[0m \u001b[1;32mnot\u001b[0m \u001b[1;32min\u001b[0m \u001b[0mioargs\u001b[0m\u001b[1;33m.\u001b[0m\u001b[0mmode\u001b[0m\u001b[1;33m:\u001b[0m\u001b[1;33m\u001b[0m\u001b[1;33m\u001b[0m\u001b[0m\n\u001b[0;32m    701\u001b[0m             \u001b[1;31m# Encoding\u001b[0m\u001b[1;33m\u001b[0m\u001b[1;33m\u001b[0m\u001b[0m\n\u001b[1;32m--> 702\u001b[1;33m             handle = open(\n\u001b[0m\u001b[0;32m    703\u001b[0m                 \u001b[0mhandle\u001b[0m\u001b[1;33m,\u001b[0m\u001b[1;33m\u001b[0m\u001b[1;33m\u001b[0m\u001b[0m\n\u001b[0;32m    704\u001b[0m                 \u001b[0mioargs\u001b[0m\u001b[1;33m.\u001b[0m\u001b[0mmode\u001b[0m\u001b[1;33m,\u001b[0m\u001b[1;33m\u001b[0m\u001b[1;33m\u001b[0m\u001b[0m\n",
      "\u001b[1;31mFileNotFoundError\u001b[0m: [Errno 2] No such file or directory: '/kaggle/input/retaildataset/stores data-set.csv'"
     ]
    }
   ],
   "source": [
    "\n",
    "df_store = pd.read_csv(\"/kaggle/input/retaildataset/stores data-set.csv\")\n",
    "df_feature = pd.read_csv(\"/kaggle/input/retaildataset/Features data set.csv\",parse_dates=[\"Date\"])\n",
    "df_sales = pd.read_csv(\"/kaggle/input/retaildataset/sales data-set.csv\",parse_dates=[\"Date\"])"
   ]
  },
  {
   "cell_type": "markdown",
   "metadata": {
    "papermill": {
     "duration": 0.013441,
     "end_time": "2020-08-11T08:40:51.689226",
     "exception": false,
     "start_time": "2020-08-11T08:40:51.675785",
     "status": "completed"
    },
    "tags": []
   },
   "source": [
    "<a id=\"1\"></a> <br>\n",
    "# Sneak Peek into the Data\n",
    "\n",
    "Lets see how the tables look and get some basic information. i.e \n",
    "* Data types\n",
    "* No of Data (rows and column)\n",
    "* Null Data\n",
    "* few rows to understand the data"
   ]
  },
  {
   "cell_type": "code",
   "execution_count": null,
   "metadata": {
    "ExecuteTime": {
     "end_time": "2022-11-27T22:00:17.298052Z",
     "start_time": "2022-11-27T22:00:17.298052Z"
    },
    "execution": {
     "iopub.execute_input": "2020-08-11T08:40:51.736619Z",
     "iopub.status.busy": "2020-08-11T08:40:51.735471Z",
     "iopub.status.idle": "2020-08-11T08:40:51.740784Z",
     "shell.execute_reply": "2020-08-11T08:40:51.741631Z"
    },
    "papermill": {
     "duration": 0.038443,
     "end_time": "2020-08-11T08:40:51.741870",
     "exception": false,
     "start_time": "2020-08-11T08:40:51.703427",
     "status": "completed"
    },
    "tags": []
   },
   "outputs": [],
   "source": [
    "print(df_store.info())\n",
    "print(df_store.head())"
   ]
  },
  {
   "cell_type": "code",
   "execution_count": null,
   "metadata": {
    "ExecuteTime": {
     "end_time": "2022-11-27T22:00:17.300052Z",
     "start_time": "2022-11-27T22:00:17.300052Z"
    },
    "execution": {
     "iopub.execute_input": "2020-08-11T08:40:51.778351Z",
     "iopub.status.busy": "2020-08-11T08:40:51.777023Z",
     "iopub.status.idle": "2020-08-11T08:40:51.798625Z",
     "shell.execute_reply": "2020-08-11T08:40:51.797749Z"
    },
    "papermill": {
     "duration": 0.04219,
     "end_time": "2020-08-11T08:40:51.798766",
     "exception": false,
     "start_time": "2020-08-11T08:40:51.756576",
     "status": "completed"
    },
    "tags": []
   },
   "outputs": [],
   "source": [
    "print(df_feature.info())\n",
    "print(df_feature.head())"
   ]
  },
  {
   "cell_type": "code",
   "execution_count": null,
   "metadata": {
    "ExecuteTime": {
     "end_time": "2022-11-27T22:00:17.303050Z",
     "start_time": "2022-11-27T22:00:17.303050Z"
    },
    "execution": {
     "iopub.execute_input": "2020-08-11T08:40:51.833592Z",
     "iopub.status.busy": "2020-08-11T08:40:51.832779Z",
     "iopub.status.idle": "2020-08-11T08:40:51.854572Z",
     "shell.execute_reply": "2020-08-11T08:40:51.855363Z"
    },
    "papermill": {
     "duration": 0.042514,
     "end_time": "2020-08-11T08:40:51.855596",
     "exception": false,
     "start_time": "2020-08-11T08:40:51.813082",
     "status": "completed"
    },
    "tags": []
   },
   "outputs": [],
   "source": [
    "print(df_sales.info())\n",
    "print(df_sales.head())"
   ]
  },
  {
   "cell_type": "markdown",
   "metadata": {
    "papermill": {
     "duration": 0.014001,
     "end_time": "2020-08-11T08:40:51.884235",
     "exception": false,
     "start_time": "2020-08-11T08:40:51.870234",
     "status": "completed"
    },
    "tags": []
   },
   "source": [
    "looking into the data I come to the conclusion that we can group data based on the time,store,department.\n",
    "Also we can check how holiday,Temperature,Fuel Price,CPI,Unemployment,Type of Store affecting sales."
   ]
  },
  {
   "cell_type": "markdown",
   "metadata": {
    "papermill": {
     "duration": 0.014006,
     "end_time": "2020-08-11T08:40:51.912451",
     "exception": false,
     "start_time": "2020-08-11T08:40:51.898445",
     "status": "completed"
    },
    "tags": []
   },
   "source": [
    "<a id=\"2\"></a> <br>\n",
    "# **Analysis Datewise**\n",
    "\n",
    "let explore data based on the timeline\n",
    "\n",
    "* lets Merge Feature tables and sales tables based on the date \n",
    "* we will convert WeeklySales in Millions\n",
    "* we will modify column as the day is holiday or not"
   ]
  },
  {
   "cell_type": "code",
   "execution_count": null,
   "metadata": {
    "ExecuteTime": {
     "end_time": "2022-11-27T22:00:17.306048Z",
     "start_time": "2022-11-27T22:00:17.306048Z"
    },
    "execution": {
     "iopub.execute_input": "2020-08-11T08:40:51.958173Z",
     "iopub.status.busy": "2020-08-11T08:40:51.950427Z",
     "iopub.status.idle": "2020-08-11T08:40:52.038673Z",
     "shell.execute_reply": "2020-08-11T08:40:52.037717Z"
    },
    "papermill": {
     "duration": 0.112099,
     "end_time": "2020-08-11T08:40:52.038830",
     "exception": false,
     "start_time": "2020-08-11T08:40:51.926731",
     "status": "completed"
    },
    "tags": []
   },
   "outputs": [],
   "source": [
    "data_date = df_feature.groupby(\"Date\").agg({\"Temperature\":\"mean\"\n",
    "                                            ,\"Fuel_Price\":\"mean\"\n",
    "                                            ,\"IsHoliday\":\"sum\"\n",
    "                                            ,\"CPI\":\"mean\"\n",
    "                                           ,\"Unemployment\":\"mean\"})\n",
    "data_date = data_date.sort_index()\n",
    "temp_date_data = data_date[:'2012-12-10']\n",
    "\n",
    "data_sales_date = df_sales.groupby(\"Date\").agg({\"Weekly_Sales\":\"sum\"})\n",
    "data_sales_date.sort_index(inplace=True)\n",
    "data_sales_date.Weekly_Sales = data_sales_date.Weekly_Sales/1000000\n",
    "data_sales_date.Weekly_Sales = data_sales_date.Weekly_Sales.apply(int)\n",
    "data = pd.merge(data_sales_date, temp_date_data, left_index=True,right_index=True, how='left')\n",
    "data[\"IsHoliday\"] = data[\"IsHoliday\"].apply(lambda x: True if x == 45.0 else False )\n"
   ]
  },
  {
   "cell_type": "code",
   "execution_count": null,
   "metadata": {
    "ExecuteTime": {
     "end_time": "2022-11-27T22:00:17.309046Z",
     "start_time": "2022-11-27T22:00:17.309046Z"
    },
    "execution": {
     "iopub.execute_input": "2020-08-11T08:40:52.095570Z",
     "iopub.status.busy": "2020-08-11T08:40:52.094343Z",
     "iopub.status.idle": "2020-08-11T08:40:52.127871Z",
     "shell.execute_reply": "2020-08-11T08:40:52.126826Z"
    },
    "papermill": {
     "duration": 0.065216,
     "end_time": "2020-08-11T08:40:52.128110",
     "exception": false,
     "start_time": "2020-08-11T08:40:52.062894",
     "status": "completed"
    },
    "tags": []
   },
   "outputs": [],
   "source": [
    "print(data.describe())"
   ]
  },
  {
   "cell_type": "code",
   "execution_count": null,
   "metadata": {
    "ExecuteTime": {
     "end_time": "2022-11-27T22:00:17.312044Z",
     "start_time": "2022-11-27T22:00:17.312044Z"
    },
    "execution": {
     "iopub.execute_input": "2020-08-11T08:40:52.179380Z",
     "iopub.status.busy": "2020-08-11T08:40:52.178574Z",
     "iopub.status.idle": "2020-08-11T08:40:55.363428Z",
     "shell.execute_reply": "2020-08-11T08:40:55.364064Z"
    },
    "papermill": {
     "duration": 3.215877,
     "end_time": "2020-08-11T08:40:55.364245",
     "exception": false,
     "start_time": "2020-08-11T08:40:52.148368",
     "status": "completed"
    },
    "tags": []
   },
   "outputs": [],
   "source": [
    "plt.style.use('fivethirtyeight')\n",
    "#plt.figure(figsize=(15,4))\n",
    "fig, ax = plt.subplots(5,1,figsize=(15,10),sharex=True) \n",
    "data[\"Weekly_Sales\"].plot(ax=ax[0],title=\"Weekly Sales/sales on Holiday\")\n",
    "data[data.IsHoliday==True][\"Weekly_Sales\"].plot(marker=\"D\",ax=ax[0],legend=\"Holiday Week sale\")\n",
    "data[\"Temperature\"].plot(ax=ax[1], title=\"Temperature\")\n",
    "data[\"Fuel_Price\"].plot(ax=ax[2],title=\"Fuel_Price\")\n",
    "data[\"CPI\"].plot(ax=ax[3],title=\"CPI\")\n",
    "data[\"Unemployment\"].plot(ax=ax[4],title=\"Unemployment\")\n"
   ]
  },
  {
   "cell_type": "markdown",
   "metadata": {
    "papermill": {
     "duration": 0.016726,
     "end_time": "2020-08-11T08:40:55.407944",
     "exception": false,
     "start_time": "2020-08-11T08:40:55.391218",
     "status": "completed"
    },
    "tags": []
   },
   "source": [
    "* Nov- Dec shows spike in Weekly Sales.but over the year it is not increased. \n",
    "* weeks nearby holiday shows peak\n",
    "* Fuel Price and Consumer Price Index shown growth over the year.\n",
    "* Unemployment decreased year after year.\n",
    "* Temperature is showing a random walk\n"
   ]
  },
  {
   "cell_type": "code",
   "execution_count": null,
   "metadata": {
    "ExecuteTime": {
     "end_time": "2022-11-27T22:00:17.315043Z",
     "start_time": "2022-11-27T22:00:17.315043Z"
    },
    "execution": {
     "iopub.execute_input": "2020-08-11T08:40:55.450986Z",
     "iopub.status.busy": "2020-08-11T08:40:55.450164Z",
     "iopub.status.idle": "2020-08-11T08:40:55.894683Z",
     "shell.execute_reply": "2020-08-11T08:40:55.893790Z"
    },
    "papermill": {
     "duration": 0.470775,
     "end_time": "2020-08-11T08:40:55.894833",
     "exception": false,
     "start_time": "2020-08-11T08:40:55.424058",
     "status": "completed"
    },
    "tags": []
   },
   "outputs": [],
   "source": [
    "sns.heatmap(data.corr(),annot=True)"
   ]
  },
  {
   "cell_type": "markdown",
   "metadata": {
    "papermill": {
     "duration": 0.016572,
     "end_time": "2020-08-11T08:40:55.928416",
     "exception": false,
     "start_time": "2020-08-11T08:40:55.911844",
     "status": "completed"
    },
    "tags": []
   },
   "source": [
    "* Weekly sales doesnot show any high correlation with any other parameters.\n",
    "* CPI and Unemployment  shows negative correlation on other hand Fuel Price show positive correlation\n",
    "* Unemployment and Fuel price are also negatively correlated"
   ]
  },
  {
   "cell_type": "code",
   "execution_count": null,
   "metadata": {
    "ExecuteTime": {
     "end_time": "2022-11-27T22:00:17.317042Z",
     "start_time": "2022-11-27T22:00:17.317042Z"
    },
    "execution": {
     "iopub.execute_input": "2020-08-11T08:40:56.093831Z",
     "iopub.status.busy": "2020-08-11T08:40:55.976517Z",
     "iopub.status.idle": "2020-08-11T08:40:56.333632Z",
     "shell.execute_reply": "2020-08-11T08:40:56.332807Z"
    },
    "papermill": {
     "duration": 0.388632,
     "end_time": "2020-08-11T08:40:56.333772",
     "exception": false,
     "start_time": "2020-08-11T08:40:55.945140",
     "status": "completed"
    },
    "tags": []
   },
   "outputs": [],
   "source": [
    "data_sales_month = data.groupby(data.index.month).agg({\"Weekly_Sales\":\"sum\"})\n",
    "plt.figure(figsize=(10, 5))\n",
    "sns.barplot(x=data_sales_month.index,y=data_sales_month.Weekly_Sales)\n",
    "plt.title(\"Month wise Sales\")\n",
    "plt.xlabel(\"Month\")\n",
    "plt.ylabel(\"Sales\")"
   ]
  },
  {
   "cell_type": "markdown",
   "metadata": {
    "papermill": {
     "duration": 0.016749,
     "end_time": "2020-08-11T08:40:56.367901",
     "exception": false,
     "start_time": "2020-08-11T08:40:56.351152",
     "status": "completed"
    },
    "tags": []
   },
   "source": [
    "* It could be as Enough buying during offer and holidays (Black friday Sales,Chrismas,New year) and later sales go down and then again gaining momentum in some months.\n",
    "* In Nov also people show less buying can be waiting period for upcoming sales.\n",
    "* whole data for Dec-2013 I guess is not available so even after spike in Dec the sales are not gone very high."
   ]
  },
  {
   "cell_type": "code",
   "execution_count": null,
   "metadata": {
    "ExecuteTime": {
     "end_time": "2022-11-27T22:00:17.320040Z",
     "start_time": "2022-11-27T22:00:17.320040Z"
    },
    "execution": {
     "iopub.execute_input": "2020-08-11T08:40:56.422172Z",
     "iopub.status.busy": "2020-08-11T08:40:56.416949Z",
     "iopub.status.idle": "2020-08-11T08:40:56.576637Z",
     "shell.execute_reply": "2020-08-11T08:40:56.577306Z"
    },
    "papermill": {
     "duration": 0.191702,
     "end_time": "2020-08-11T08:40:56.577510",
     "exception": false,
     "start_time": "2020-08-11T08:40:56.385808",
     "status": "completed"
    },
    "tags": []
   },
   "outputs": [],
   "source": [
    "data_sales_year = data.groupby(data.index.year).agg({\"Weekly_Sales\":\"sum\"})\n",
    "\n",
    "sns.barplot(x=data_sales_year.index,y=data_sales_year.Weekly_Sales)\n",
    "plt.title(\"Year wise Sales\")\n",
    "plt.xlabel(\"Year\")\n",
    "plt.ylabel(\"Sales\")\n"
   ]
  },
  {
   "cell_type": "code",
   "execution_count": null,
   "metadata": {
    "ExecuteTime": {
     "end_time": "2022-11-27T22:00:17.323038Z",
     "start_time": "2022-11-27T22:00:17.323038Z"
    },
    "execution": {
     "iopub.execute_input": "2020-08-11T08:40:56.621773Z",
     "iopub.status.busy": "2020-08-11T08:40:56.620885Z",
     "iopub.status.idle": "2020-08-11T08:40:56.755965Z",
     "shell.execute_reply": "2020-08-11T08:40:56.755108Z"
    },
    "papermill": {
     "duration": 0.158737,
     "end_time": "2020-08-11T08:40:56.756138",
     "exception": false,
     "start_time": "2020-08-11T08:40:56.597401",
     "status": "completed"
    },
    "tags": []
   },
   "outputs": [],
   "source": [
    "from statsmodels.tsa.seasonal import seasonal_decompose\n",
    "decomposition = seasonal_decompose(data[\"Weekly_Sales\"], period=45) "
   ]
  },
  {
   "cell_type": "code",
   "execution_count": null,
   "metadata": {
    "ExecuteTime": {
     "end_time": "2022-11-27T22:00:17.325037Z",
     "start_time": "2022-11-27T22:00:17.325037Z"
    },
    "execution": {
     "iopub.execute_input": "2020-08-11T08:40:56.801673Z",
     "iopub.status.busy": "2020-08-11T08:40:56.800463Z",
     "iopub.status.idle": "2020-08-11T08:40:57.124091Z",
     "shell.execute_reply": "2020-08-11T08:40:57.123224Z"
    },
    "papermill": {
     "duration": 0.349958,
     "end_time": "2020-08-11T08:40:57.124234",
     "exception": false,
     "start_time": "2020-08-11T08:40:56.774276",
     "status": "completed"
    },
    "tags": []
   },
   "outputs": [],
   "source": [
    "plt.figure(figsize=(15, 7))\n",
    "plt.plot(decomposition.trend)\n",
    "plt.plot(decomposition.seasonal)\n",
    "plt.plot(decomposition.resid)\n",
    "plt.legend([\"Trend\", \"Seasonal\",\"Resid\"], loc =\"upper right\") "
   ]
  },
  {
   "cell_type": "markdown",
   "metadata": {
    "papermill": {
     "duration": 0.018829,
     "end_time": "2020-08-11T08:40:57.162802",
     "exception": false,
     "start_time": "2020-08-11T08:40:57.143973",
     "status": "completed"
    },
    "tags": []
   },
   "source": [
    "* It shows a sideway trend"
   ]
  },
  {
   "cell_type": "markdown",
   "metadata": {
    "papermill": {
     "duration": 0.018486,
     "end_time": "2020-08-11T08:40:57.200349",
     "exception": false,
     "start_time": "2020-08-11T08:40:57.181863",
     "status": "completed"
    },
    "tags": []
   },
   "source": [
    "<a id=\"3\"></a> <br>\n",
    "# **Analysis Storewise**\n",
    "\n",
    "lets explore the pattern in store for weekly sales data"
   ]
  },
  {
   "cell_type": "code",
   "execution_count": null,
   "metadata": {
    "ExecuteTime": {
     "end_time": "2022-11-27T22:00:17.328036Z",
     "start_time": "2022-11-27T22:00:17.328036Z"
    },
    "execution": {
     "iopub.execute_input": "2020-08-11T08:40:57.250456Z",
     "iopub.status.busy": "2020-08-11T08:40:57.248288Z",
     "iopub.status.idle": "2020-08-11T08:40:57.280334Z",
     "shell.execute_reply": "2020-08-11T08:40:57.279610Z"
    },
    "papermill": {
     "duration": 0.060851,
     "end_time": "2020-08-11T08:40:57.280482",
     "exception": false,
     "start_time": "2020-08-11T08:40:57.219631",
     "status": "completed"
    },
    "tags": []
   },
   "outputs": [],
   "source": [
    "data_Store = df_feature.groupby(\"Store\").agg({\"Temperature\":\"mean\",\"Fuel_Price\":\"mean\",\"IsHoliday\":\"sum\"})\n",
    "\n",
    "temp_store = df_sales.groupby(\"Store\").agg({\"Weekly_Sales\":\"sum\"})\n",
    "temp_store.Weekly_Sales = temp_store.Weekly_Sales/1000000\n",
    "temp_store.Weekly_Sales = temp_store.Weekly_Sales.apply(int)\n",
    "data_Store.set_index(np.arange(0,45),inplace=True)\n",
    "# Adding the columns derived from Data_Store\n",
    "df_store[\"temp\"] = data_Store.Temperature\n",
    "df_store[\"Fuel_Price\"] = data_Store.Fuel_Price\n",
    "df_store[\"holiday\"] = data_Store.IsHoliday\n",
    "df_store[\"Weekly_Sales\"] = temp_store.Weekly_Sales"
   ]
  },
  {
   "cell_type": "code",
   "execution_count": null,
   "metadata": {
    "ExecuteTime": {
     "end_time": "2022-11-27T22:00:17.331034Z",
     "start_time": "2022-11-27T22:00:17.330033Z"
    },
    "execution": {
     "iopub.execute_input": "2020-08-11T08:40:57.334951Z",
     "iopub.status.busy": "2020-08-11T08:40:57.328737Z",
     "iopub.status.idle": "2020-08-11T08:40:57.366058Z",
     "shell.execute_reply": "2020-08-11T08:40:57.366673Z"
    },
    "papermill": {
     "duration": 0.066687,
     "end_time": "2020-08-11T08:40:57.366889",
     "exception": false,
     "start_time": "2020-08-11T08:40:57.300202",
     "status": "completed"
    },
    "tags": []
   },
   "outputs": [],
   "source": [
    "df_store.describe()"
   ]
  },
  {
   "cell_type": "code",
   "execution_count": null,
   "metadata": {
    "ExecuteTime": {
     "end_time": "2022-11-27T22:00:17.333032Z",
     "start_time": "2022-11-27T22:00:17.333032Z"
    },
    "execution": {
     "iopub.execute_input": "2020-08-11T08:40:57.422857Z",
     "iopub.status.busy": "2020-08-11T08:40:57.421962Z",
     "iopub.status.idle": "2020-08-11T08:40:57.881520Z",
     "shell.execute_reply": "2020-08-11T08:40:57.882184Z"
    },
    "papermill": {
     "duration": 0.495859,
     "end_time": "2020-08-11T08:40:57.882383",
     "exception": false,
     "start_time": "2020-08-11T08:40:57.386524",
     "status": "completed"
    },
    "tags": []
   },
   "outputs": [],
   "source": [
    "fig,ax = plt.subplots(1,3,figsize=(15, 4))\n",
    "sns.countplot(df_store.Type,ax=ax[0])\n",
    "sns.swarmplot(data = df_store,y=\"Size\",x=\"Type\",ax=ax[1])\n",
    "\n",
    "sns.boxplot(data = df_store,y=\"Weekly_Sales\",x=\"Type\",ax=ax[2])\n",
    "\n"
   ]
  },
  {
   "cell_type": "markdown",
   "metadata": {
    "papermill": {
     "duration": 0.020692,
     "end_time": "2020-08-11T08:40:57.924251",
     "exception": false,
     "start_time": "2020-08-11T08:40:57.903559",
     "status": "completed"
    },
    "tags": []
   },
   "source": [
    "* Store Count is in the order of A, B and least is C \n",
    "* Size wise A store as most no of Item followed by B and than C\n",
    "* Even After less Count of Store and lesser Size B has more Weekly Sales than A and C at the least."
   ]
  },
  {
   "cell_type": "markdown",
   "metadata": {
    "papermill": {
     "duration": 0.021008,
     "end_time": "2020-08-11T08:40:57.966124",
     "exception": false,
     "start_time": "2020-08-11T08:40:57.945116",
     "status": "completed"
    },
    "tags": []
   },
   "source": [
    "<a id=\"4\"></a> <br>\n",
    "# **Analysis Departmentwise**\n",
    "\n",
    "A little Invesigation on Department"
   ]
  },
  {
   "cell_type": "code",
   "execution_count": null,
   "metadata": {
    "ExecuteTime": {
     "end_time": "2022-11-27T22:00:17.336030Z",
     "start_time": "2022-11-27T22:00:17.335031Z"
    },
    "execution": {
     "iopub.execute_input": "2020-08-11T08:40:58.020130Z",
     "iopub.status.busy": "2020-08-11T08:40:58.018832Z",
     "iopub.status.idle": "2020-08-11T08:40:58.032915Z",
     "shell.execute_reply": "2020-08-11T08:40:58.031945Z"
    },
    "papermill": {
     "duration": 0.043186,
     "end_time": "2020-08-11T08:40:58.033133",
     "exception": false,
     "start_time": "2020-08-11T08:40:57.989947",
     "status": "completed"
    },
    "tags": []
   },
   "outputs": [],
   "source": [
    "len(df_sales[\"Dept\"].unique())"
   ]
  },
  {
   "cell_type": "code",
   "execution_count": null,
   "metadata": {
    "ExecuteTime": {
     "end_time": "2022-11-27T22:00:17.339031Z",
     "start_time": "2022-11-27T22:00:17.339031Z"
    },
    "_kg_hide-output": true,
    "execution": {
     "iopub.execute_input": "2020-08-11T08:40:58.083477Z",
     "iopub.status.busy": "2020-08-11T08:40:58.082585Z",
     "iopub.status.idle": "2020-08-11T08:40:58.109956Z",
     "shell.execute_reply": "2020-08-11T08:40:58.109247Z"
    },
    "papermill": {
     "duration": 0.055264,
     "end_time": "2020-08-11T08:40:58.110119",
     "exception": false,
     "start_time": "2020-08-11T08:40:58.054855",
     "status": "completed"
    },
    "tags": []
   },
   "outputs": [],
   "source": [
    "data_Dept = df_sales.groupby(\"Dept\").agg({\"Weekly_Sales\":\"sum\"})\n",
    "data_Dept.Weekly_Sales = data_Dept.Weekly_Sales/10000\n",
    "data_Dept.Weekly_Sales = data_Dept.Weekly_Sales.apply(int)\n",
    "data_Dept.sort_values(by=\"Weekly_Sales\")"
   ]
  },
  {
   "cell_type": "code",
   "execution_count": null,
   "metadata": {
    "ExecuteTime": {
     "end_time": "2022-11-27T22:00:17.341028Z",
     "start_time": "2022-11-27T22:00:17.341028Z"
    },
    "execution": {
     "iopub.execute_input": "2020-08-11T08:40:58.168556Z",
     "iopub.status.busy": "2020-08-11T08:40:58.161052Z",
     "iopub.status.idle": "2020-08-11T08:40:58.383758Z",
     "shell.execute_reply": "2020-08-11T08:40:58.382952Z"
    },
    "papermill": {
     "duration": 0.253171,
     "end_time": "2020-08-11T08:40:58.383904",
     "exception": false,
     "start_time": "2020-08-11T08:40:58.130733",
     "status": "completed"
    },
    "tags": []
   },
   "outputs": [],
   "source": [
    "fig1, ax1 = plt.subplots(figsize=(15, 4))\n",
    "#ordered_df = data_Dept.sort_values(by='Weekly_Sales')\n",
    "plt.vlines(x=data_Dept.index, ymin=0, ymax=data_Dept['Weekly_Sales'], color='skyblue')\n",
    "plt.plot(data_Dept.index,data_Dept['Weekly_Sales'], \"o\")\n",
    "plt.title(\"Departmentwise Sales\")\n",
    "plt.ylabel(\"Sales\")\n",
    "plt.xlabel(\"Department\")"
   ]
  },
  {
   "cell_type": "markdown",
   "metadata": {
    "papermill": {
     "duration": 0.020952,
     "end_time": "2020-08-11T08:40:58.426446",
     "exception": false,
     "start_time": "2020-08-11T08:40:58.405494",
     "status": "completed"
    },
    "tags": []
   },
   "source": [
    "* Here  we can see department 1-15 as well as 90-95 has shown  higher weekly sales.\n",
    "* some department as 38,40,72 has shown higher weekly sales."
   ]
  },
  {
   "cell_type": "markdown",
   "metadata": {
    "papermill": {
     "duration": 0.020831,
     "end_time": "2020-08-11T08:40:58.468892",
     "exception": false,
     "start_time": "2020-08-11T08:40:58.448061",
     "status": "completed"
    },
    "tags": []
   },
   "source": [
    "<a id=\"5\"></a> <br>\n",
    "# Analysis Store Type and Year/Month Wise "
   ]
  },
  {
   "cell_type": "code",
   "execution_count": null,
   "metadata": {
    "ExecuteTime": {
     "end_time": "2022-11-27T22:00:17.344026Z",
     "start_time": "2022-11-27T22:00:17.343026Z"
    },
    "execution": {
     "iopub.execute_input": "2020-08-11T08:40:58.521884Z",
     "iopub.status.busy": "2020-08-11T08:40:58.520565Z",
     "iopub.status.idle": "2020-08-11T08:40:58.604210Z",
     "shell.execute_reply": "2020-08-11T08:40:58.604837Z"
    },
    "papermill": {
     "duration": 0.115065,
     "end_time": "2020-08-11T08:40:58.605050",
     "exception": false,
     "start_time": "2020-08-11T08:40:58.489985",
     "status": "completed"
    },
    "tags": []
   },
   "outputs": [],
   "source": [
    "sales_date_store = df_sales.groupby([\"Date\",\"Store\"]).agg({\"Weekly_Sales\":\"sum\"})\n",
    "sales_date_store.sort_index(inplace=True)\n",
    "sales_date_store.Weekly_Sales = sales_date_store.Weekly_Sales/10000\n",
    "sales_date_store.Weekly_Sales = sales_date_store.Weekly_Sales.apply(int)\n",
    "data_table = pd.merge(df_feature,sales_date_store ,  how='left', on=[\"Date\",\"Store\"])\n",
    "data_table = pd.merge(data_table,df_store[[\"Store\",\"Type\"]] ,  how='left', on=[\"Store\"])\n",
    "data_table.head(20)\n",
    "data_train = data_table[data_table.Weekly_Sales.notnull()]\n",
    "data_test = data_table[data_table.Weekly_Sales.isnull()]"
   ]
  },
  {
   "cell_type": "code",
   "execution_count": 21,
   "metadata": {
    "execution": {
     "iopub.execute_input": "2020-08-11T08:40:58.656696Z",
     "iopub.status.busy": "2020-08-11T08:40:58.655548Z",
     "iopub.status.idle": "2020-08-11T08:40:59.299932Z",
     "shell.execute_reply": "2020-08-11T08:40:59.299195Z"
    },
    "papermill": {
     "duration": 0.672115,
     "end_time": "2020-08-11T08:40:59.300096",
     "exception": false,
     "start_time": "2020-08-11T08:40:58.627981",
     "status": "completed"
    },
    "tags": []
   },
   "outputs": [
    {
     "data": {
      "text/plain": [
       "<matplotlib.axes._subplots.AxesSubplot at 0x7f2d2182d3d0>"
      ]
     },
     "execution_count": 21,
     "metadata": {},
     "output_type": "execute_result"
    },
    {
     "data": {
      "image/png": "[encoded data removed]",
      "text/plain": [
       "<Figure size 1080x360 with 1 Axes>"
      ]
     },
     "metadata": {},
     "output_type": "display_data"
    }
   ],
   "source": [
    "plt.figure(figsize=(15, 5))\n",
    "sns.barplot(x=data_train.Date.dt.year, y=data_train.Weekly_Sales,hue=data_train.Type)"
   ]
  },
  {
   "cell_type": "markdown",
   "metadata": {
    "papermill": {
     "duration": 0.021685,
     "end_time": "2020-08-11T08:40:59.344529",
     "exception": false,
     "start_time": "2020-08-11T08:40:59.322844",
     "status": "completed"
    },
    "tags": []
   },
   "source": [
    "* Store Type A & B has shown slight decrease year on basis in sales.\n",
    "* Store C has shown a slight increase in sales."
   ]
  },
  {
   "cell_type": "code",
   "execution_count": 22,
   "metadata": {
    "execution": {
     "iopub.execute_input": "2020-08-11T08:40:59.396858Z",
     "iopub.status.busy": "2020-08-11T08:40:59.395502Z",
     "iopub.status.idle": "2020-08-11T08:41:01.381377Z",
     "shell.execute_reply": "2020-08-11T08:41:01.380754Z"
    },
    "papermill": {
     "duration": 2.015328,
     "end_time": "2020-08-11T08:41:01.381528",
     "exception": false,
     "start_time": "2020-08-11T08:40:59.366200",
     "status": "completed"
    },
    "tags": []
   },
   "outputs": [
    {
     "data": {
      "text/plain": [
       "<matplotlib.axes._subplots.AxesSubplot at 0x7f2d21848050>"
      ]
     },
     "execution_count": 22,
     "metadata": {},
     "output_type": "execute_result"
    },
    {
     "data": {
      "image/png": "[encoded data removed]",
      "text/plain": [
       "<Figure size 1080x504 with 1 Axes>"
      ]
     },
     "metadata": {},
     "output_type": "display_data"
    }
   ],
   "source": [
    "plt.figure(figsize=(15, 7))\n",
    "sns.barplot(x=data_train.Date.dt.month, y=data_train.Weekly_Sales,hue=data_train.Type)"
   ]
  },
  {
   "cell_type": "markdown",
   "metadata": {
    "papermill": {
     "duration": 0.021719,
     "end_time": "2020-08-11T08:41:01.425199",
     "exception": false,
     "start_time": "2020-08-11T08:41:01.403480",
     "status": "completed"
    },
    "tags": []
   },
   "source": [
    "* Type A & B store show spike in Nov Dec mostly due to holiday whereas jan has shown decrease in sale.\n",
    "* Type C is consistent over every month and doesnot show much deviation.\n",
    "   "
   ]
  },
  {
   "cell_type": "markdown",
   "metadata": {
    "papermill": {
     "duration": 0.021563,
     "end_time": "2020-08-11T08:41:01.468878",
     "exception": false,
     "start_time": "2020-08-11T08:41:01.447315",
     "status": "completed"
    },
    "tags": []
   },
   "source": [
    "<a id=\"6\"></a> <br>\n",
    "# Analysis of MarkDown"
   ]
  },
  {
   "cell_type": "code",
   "execution_count": 23,
   "metadata": {
    "execution": {
     "iopub.execute_input": "2020-08-11T08:41:01.525120Z",
     "iopub.status.busy": "2020-08-11T08:41:01.523506Z",
     "iopub.status.idle": "2020-08-11T08:41:01.820543Z",
     "shell.execute_reply": "2020-08-11T08:41:01.819919Z"
    },
    "papermill": {
     "duration": 0.329708,
     "end_time": "2020-08-11T08:41:01.820682",
     "exception": false,
     "start_time": "2020-08-11T08:41:01.490974",
     "status": "completed"
    },
    "tags": []
   },
   "outputs": [
    {
     "data": {
      "text/plain": [
       "Text(0.5, 0, 'Date')"
      ]
     },
     "execution_count": 23,
     "metadata": {},
     "output_type": "execute_result"
    },
    {
     "data": {
      "image/png": "[encoded data removed]",
      "text/plain": [
       "<Figure size 1080x288 with 1 Axes>"
      ]
     },
     "metadata": {},
     "output_type": "display_data"
    }
   ],
   "source": [
    "plt.figure(figsize=(15,4))\n",
    "train_markdown = data_table[data_table.MarkDown2.notnull()]\n",
    "train_markdown = train_markdown.groupby(\"Date\").agg({\"MarkDown1\":\"mean\",\"MarkDown2\":\"mean\",\"MarkDown3\":\"mean\",\"MarkDown4\":\"mean\",\"MarkDown5\":\"mean\"})\n",
    "\n",
    "\n",
    "plt.plot(train_markdown.index,train_markdown.MarkDown1)\n",
    "plt.plot(train_markdown.index,train_markdown.MarkDown2)\n",
    "plt.plot(train_markdown.index,train_markdown.MarkDown3)\n",
    "plt.plot(train_markdown.index,train_markdown.MarkDown4)\n",
    "plt.plot(train_markdown.index,train_markdown.MarkDown5)\n",
    "plt.title(\"Timeline Markdown\")\n",
    "plt.ylabel(\"Markdown\")\n",
    "plt.xlabel(\"Date\")"
   ]
  },
  {
   "cell_type": "code",
   "execution_count": 24,
   "metadata": {
    "execution": {
     "iopub.execute_input": "2020-08-11T08:41:01.881646Z",
     "iopub.status.busy": "2020-08-11T08:41:01.880557Z",
     "iopub.status.idle": "2020-08-11T08:41:03.005359Z",
     "shell.execute_reply": "2020-08-11T08:41:03.003921Z"
    },
    "papermill": {
     "duration": 1.161505,
     "end_time": "2020-08-11T08:41:03.005546",
     "exception": false,
     "start_time": "2020-08-11T08:41:01.844041",
     "status": "completed"
    },
    "tags": []
   },
   "outputs": [
    {
     "data": {
      "image/png": "[encoded data removed]",
      "text/plain": [
       "<Figure size 720x576 with 6 Axes>"
      ]
     },
     "metadata": {},
     "output_type": "display_data"
    }
   ],
   "source": [
    "train_markdown.hist(figsize=(10,8),bins=6,color='Y')\n",
    "\n",
    "plt.tight_layout()\n",
    "plt.show()"
   ]
  },
  {
   "cell_type": "code",
   "execution_count": 25,
   "metadata": {
    "execution": {
     "iopub.execute_input": "2020-08-11T08:41:03.107265Z",
     "iopub.status.busy": "2020-08-11T08:41:03.106297Z",
     "iopub.status.idle": "2020-08-11T08:41:03.613347Z",
     "shell.execute_reply": "2020-08-11T08:41:03.612490Z"
    },
    "papermill": {
     "duration": 0.569442,
     "end_time": "2020-08-11T08:41:03.613485",
     "exception": false,
     "start_time": "2020-08-11T08:41:03.044043",
     "status": "completed"
    },
    "tags": []
   },
   "outputs": [
    {
     "data": {
      "text/plain": [
       "Text(0, 0.5, 'Markdown')"
      ]
     },
     "execution_count": 25,
     "metadata": {},
     "output_type": "execute_result"
    },
    {
     "data": {
      "image/png": "[encoded data removed]",
      "text/plain": [
       "<Figure size 1080x432 with 1 Axes>"
      ]
     },
     "metadata": {},
     "output_type": "display_data"
    }
   ],
   "source": [
    "train_markdown_month = train_markdown.groupby(train_markdown.index.month).agg({\"MarkDown1\":\"mean\",\"MarkDown2\":\"mean\",\"MarkDown3\":\"mean\",\"MarkDown4\":\"mean\",\"MarkDown5\":\"mean\"})\n",
    "\n",
    "train_markdown_month.plot(kind='bar', stacked=True,figsize=(15,6))\n",
    "plt.title(\"Stacked Monthwise Morkdown\")\n",
    "plt.ylabel(\"Markdown\")"
   ]
  },
  {
   "cell_type": "code",
   "execution_count": 26,
   "metadata": {
    "execution": {
     "iopub.execute_input": "2020-08-11T08:41:03.673116Z",
     "iopub.status.busy": "2020-08-11T08:41:03.671843Z",
     "iopub.status.idle": "2020-08-11T08:41:03.931810Z",
     "shell.execute_reply": "2020-08-11T08:41:03.931128Z"
    },
    "papermill": {
     "duration": 0.293709,
     "end_time": "2020-08-11T08:41:03.931969",
     "exception": false,
     "start_time": "2020-08-11T08:41:03.638260",
     "status": "completed"
    },
    "tags": []
   },
   "outputs": [
    {
     "data": {
      "text/plain": [
       "Text(0, 0.5, 'Markdown')"
      ]
     },
     "execution_count": 26,
     "metadata": {},
     "output_type": "execute_result"
    },
    {
     "data": {
      "image/png": "[encoded data removed]",
      "text/plain": [
       "<Figure size 720x288 with 1 Axes>"
      ]
     },
     "metadata": {},
     "output_type": "display_data"
    }
   ],
   "source": [
    "train_markdown_1 = data_table[data_table.MarkDown2.notnull()]\n",
    "train_markdown_type = train_markdown_1.groupby(\"Type\").agg({\"MarkDown1\":\"mean\",\"MarkDown2\":\"mean\",\"MarkDown3\":\"mean\",\"MarkDown4\":\"mean\",\"MarkDown5\":\"mean\"})\n",
    "\n",
    "train_markdown_type.plot(kind='bar', stacked=True,figsize=(10,4))\n",
    "plt.title(\"Stacked StoreType Wise\")\n",
    "plt.ylabel(\"Markdown\")"
   ]
  },
  {
   "cell_type": "markdown",
   "metadata": {
    "papermill": {
     "duration": 0.024744,
     "end_time": "2020-08-11T08:41:03.981948",
     "exception": false,
     "start_time": "2020-08-11T08:41:03.957204",
     "status": "completed"
    },
    "tags": []
   },
   "source": [
    "<a id=\"7\"></a> <br>\n",
    "# **Prediction on Date and Store**"
   ]
  },
  {
   "cell_type": "code",
   "execution_count": 27,
   "metadata": {
    "execution": {
     "iopub.execute_input": "2020-08-11T08:41:04.109670Z",
     "iopub.status.busy": "2020-08-11T08:41:04.108566Z",
     "iopub.status.idle": "2020-08-11T08:41:13.804327Z",
     "shell.execute_reply": "2020-08-11T08:41:13.803418Z"
    },
    "papermill": {
     "duration": 9.795552,
     "end_time": "2020-08-11T08:41:13.804475",
     "exception": false,
     "start_time": "2020-08-11T08:41:04.008923",
     "status": "completed"
    },
    "tags": []
   },
   "outputs": [],
   "source": [
    "\n",
    "from fancyimpute import IterativeImputer\n",
    "from sklearn.metrics import mean_squared_error\n",
    "\n",
    "from sklearn.svm import SVR, LinearSVR, NuSVR\n",
    "from sklearn.linear_model import ElasticNet, Lasso, RidgeCV,LinearRegression\n",
    "from sklearn.kernel_ridge import KernelRidge\n",
    "from sklearn.tree import DecisionTreeRegressor\n",
    "from sklearn.ensemble import GradientBoostingRegressor,AdaBoostRegressor,RandomForestRegressor\n",
    "import xgboost as xgb\n",
    "import lightgbm as lgb"
   ]
  },
  {
   "cell_type": "markdown",
   "metadata": {
    "papermill": {
     "duration": 0.02485,
     "end_time": "2020-08-11T08:41:13.855127",
     "exception": false,
     "start_time": "2020-08-11T08:41:13.830277",
     "status": "completed"
    },
    "tags": []
   },
   "source": [
    "**Clean up and preprocessing**"
   ]
  },
  {
   "cell_type": "code",
   "execution_count": 28,
   "metadata": {
    "_kg_hide-input": true,
    "execution": {
     "iopub.execute_input": "2020-08-11T08:41:13.921416Z",
     "iopub.status.busy": "2020-08-11T08:41:13.920293Z",
     "iopub.status.idle": "2020-08-11T08:41:13.923939Z",
     "shell.execute_reply": "2020-08-11T08:41:13.923142Z"
    },
    "papermill": {
     "duration": 0.043704,
     "end_time": "2020-08-11T08:41:13.924106",
     "exception": false,
     "start_time": "2020-08-11T08:41:13.880402",
     "status": "completed"
    },
    "tags": []
   },
   "outputs": [],
   "source": [
    "def createdummies(data,cols):\n",
    "    for col in cols:\n",
    "        one_hot = pd.get_dummies(data[col],prefix=col)\n",
    "        data = data.join(one_hot)\n",
    "        data.drop(col,axis = 1,inplace=True)\n",
    "    \n",
    "    return data\n",
    "        "
   ]
  },
  {
   "cell_type": "code",
   "execution_count": 29,
   "metadata": {
    "_kg_hide-input": false,
    "execution": {
     "iopub.execute_input": "2020-08-11T08:41:13.996440Z",
     "iopub.status.busy": "2020-08-11T08:41:13.995575Z",
     "iopub.status.idle": "2020-08-11T08:41:14.172474Z",
     "shell.execute_reply": "2020-08-11T08:41:14.170233Z"
    },
    "papermill": {
     "duration": 0.222933,
     "end_time": "2020-08-11T08:41:14.172732",
     "exception": false,
     "start_time": "2020-08-11T08:41:13.949799",
     "status": "completed"
    },
    "tags": []
   },
   "outputs": [],
   "source": [
    "\n",
    "# imputing the missing value\n",
    "itt = IterativeImputer()\n",
    "df = itt.fit_transform(data_table[[\"MarkDown1\",\"MarkDown2\",\"MarkDown3\",\"MarkDown4\",\"MarkDown5\"]]) \n",
    "data_table.MarkDown1 = df[:,0]\n",
    "data_table.MarkDown2 = df[:,1]\n",
    "data_table.MarkDown3 = df[:,2]\n",
    "data_table.MarkDown4 = df[:,3]\n",
    "data_table.MarkDown5 = df[:,4]\n",
    "\n",
    "data_table['CPI'].fillna((data_table['CPI'].mean()), inplace=True)\n",
    "data_table['Unemployment'].fillna((data_table['Unemployment'].mean()), inplace=True)\n",
    "data_table['IsHoliday'] = data_table['IsHoliday'].map({True:0,False:1})\n",
    "\n",
    "#create new column\n",
    "data_table[\"Month\"] = data_table.Date.dt.month\n",
    "data_table[\"Year\"] = data_table.Date.dt.year\n",
    "data_table[\"WeekofYear\"] = data_table.Date.dt.weekofyear\n",
    "data_table.drop(['Date'],axis=1,inplace=True)\n",
    "\n",
    "#create dummies out of categorical column\n",
    "data_table = createdummies(data_table,[\"Type\",\"Month\",\"Year\",\"WeekofYear\"])\n",
    "\n"
   ]
  },
  {
   "cell_type": "code",
   "execution_count": 30,
   "metadata": {
    "_kg_hide-input": true,
    "_kg_hide-output": true,
    "execution": {
     "iopub.execute_input": "2020-08-11T08:41:14.257650Z",
     "iopub.status.busy": "2020-08-11T08:41:14.256602Z",
     "iopub.status.idle": "2020-08-11T08:41:14.261748Z",
     "shell.execute_reply": "2020-08-11T08:41:14.261093Z"
    },
    "papermill": {
     "duration": 0.049265,
     "end_time": "2020-08-11T08:41:14.261885",
     "exception": false,
     "start_time": "2020-08-11T08:41:14.212620",
     "status": "completed"
    },
    "tags": []
   },
   "outputs": [
    {
     "data": {
      "text/plain": [
       "Index(['Store', 'Temperature', 'Fuel_Price', 'MarkDown1', 'MarkDown2',\n",
       "       'MarkDown3', 'MarkDown4', 'MarkDown5', 'CPI', 'Unemployment',\n",
       "       'IsHoliday', 'Weekly_Sales', 'Type_A', 'Type_B', 'Type_C', 'Month_1',\n",
       "       'Month_2', 'Month_3', 'Month_4', 'Month_5', 'Month_6', 'Month_7',\n",
       "       'Month_8', 'Month_9', 'Month_10', 'Month_11', 'Month_12', 'Year_2010',\n",
       "       'Year_2011', 'Year_2012', 'Year_2013', 'WeekofYear_1', 'WeekofYear_2',\n",
       "       'WeekofYear_3', 'WeekofYear_4', 'WeekofYear_5', 'WeekofYear_6',\n",
       "       'WeekofYear_7', 'WeekofYear_8', 'WeekofYear_9', 'WeekofYear_10',\n",
       "       'WeekofYear_11', 'WeekofYear_12', 'WeekofYear_13', 'WeekofYear_14',\n",
       "       'WeekofYear_15', 'WeekofYear_16', 'WeekofYear_17', 'WeekofYear_18',\n",
       "       'WeekofYear_19', 'WeekofYear_20', 'WeekofYear_21', 'WeekofYear_22',\n",
       "       'WeekofYear_23', 'WeekofYear_24', 'WeekofYear_25', 'WeekofYear_26',\n",
       "       'WeekofYear_27', 'WeekofYear_28', 'WeekofYear_29', 'WeekofYear_30',\n",
       "       'WeekofYear_31', 'WeekofYear_32', 'WeekofYear_33', 'WeekofYear_34',\n",
       "       'WeekofYear_35', 'WeekofYear_36', 'WeekofYear_37', 'WeekofYear_38',\n",
       "       'WeekofYear_39', 'WeekofYear_40', 'WeekofYear_41', 'WeekofYear_42',\n",
       "       'WeekofYear_43', 'WeekofYear_44', 'WeekofYear_45', 'WeekofYear_46',\n",
       "       'WeekofYear_47', 'WeekofYear_48', 'WeekofYear_49', 'WeekofYear_50',\n",
       "       'WeekofYear_51', 'WeekofYear_52'],\n",
       "      dtype='object')"
      ]
     },
     "execution_count": 30,
     "metadata": {},
     "output_type": "execute_result"
    }
   ],
   "source": [
    "data_table.columns"
   ]
  },
  {
   "cell_type": "markdown",
   "metadata": {
    "papermill": {
     "duration": 0.025636,
     "end_time": "2020-08-11T08:41:14.313611",
     "exception": false,
     "start_time": "2020-08-11T08:41:14.287975",
     "status": "completed"
    },
    "tags": []
   },
   "source": [
    "**Data Split**"
   ]
  },
  {
   "cell_type": "code",
   "execution_count": 31,
   "metadata": {
    "execution": {
     "iopub.execute_input": "2020-08-11T08:41:14.377140Z",
     "iopub.status.busy": "2020-08-11T08:41:14.375830Z",
     "iopub.status.idle": "2020-08-11T08:41:14.388627Z",
     "shell.execute_reply": "2020-08-11T08:41:14.389304Z"
    },
    "papermill": {
     "duration": 0.049741,
     "end_time": "2020-08-11T08:41:14.389487",
     "exception": false,
     "start_time": "2020-08-11T08:41:14.339746",
     "status": "completed"
    },
    "tags": []
   },
   "outputs": [],
   "source": [
    "data_train = data_table[data_table.Weekly_Sales.notnull()]\n",
    "data_test = data_table[data_table.Weekly_Sales.isnull()]\n",
    "X = data_train.drop('Weekly_Sales', axis=1)\n",
    "y = data_train['Weekly_Sales']\n",
    "from sklearn.model_selection import train_test_split\n",
    "X_train, X_test, y_train, y_test = train_test_split(X, y, test_size=0.2)"
   ]
  },
  {
   "cell_type": "markdown",
   "metadata": {
    "papermill": {
     "duration": 0.02546,
     "end_time": "2020-08-11T08:41:14.441371",
     "exception": false,
     "start_time": "2020-08-11T08:41:14.415911",
     "status": "completed"
    },
    "tags": []
   },
   "source": [
    "**Basic Model Creation**"
   ]
  },
  {
   "cell_type": "code",
   "execution_count": 32,
   "metadata": {
    "execution": {
     "iopub.execute_input": "2020-08-11T08:41:14.508052Z",
     "iopub.status.busy": "2020-08-11T08:41:14.502859Z",
     "iopub.status.idle": "2020-08-11T08:42:22.547354Z",
     "shell.execute_reply": "2020-08-11T08:42:22.548133Z"
    },
    "papermill": {
     "duration": 68.081279,
     "end_time": "2020-08-11T08:42:22.548375",
     "exception": false,
     "start_time": "2020-08-11T08:41:14.467096",
     "status": "completed"
    },
    "tags": []
   },
   "outputs": [],
   "source": [
    "\n",
    "\n",
    "\n",
    "classifiers = [\n",
    "    LinearRegression(),\n",
    "    ElasticNet(),\n",
    "    RidgeCV(alphas=[1e-3, 1e-2, 1e-1, 1]),\n",
    "    KernelRidge(alpha=0.6, kernel='polynomial', degree=3, coef0=2.5),\n",
    "    Lasso(alpha =16, random_state=100),\n",
    "    ElasticNet(alpha=0.8),\n",
    "    DecisionTreeRegressor(),\n",
    "    RandomForestRegressor(),\n",
    "    GradientBoostingRegressor(),\n",
    "    AdaBoostRegressor(),\n",
    "    SVR(), \n",
    "    LinearSVR(), \n",
    "    NuSVR(),\n",
    "    xgb.XGBRegressor(),\n",
    "    lgb.LGBMRegressor()\n",
    "    ]\n",
    "\n",
    "name = []\n",
    "score = []\n",
    "models = []\n",
    "rmse = []\n",
    "i = 0\n",
    "for classifier in classifiers:\n",
    "    classifier.fit(X_train, y_train)   \n",
    "    name.append(type(classifier).__name__)\n",
    "    score.append(classifier.score(X_test, y_test))\n",
    "    models.append(classifier)\n",
    "    rmse.append(np.sqrt(mean_squared_error(classifier.predict(X_test), y_test)))\n"
   ]
  },
  {
   "cell_type": "markdown",
   "metadata": {
    "papermill": {
     "duration": 0.032183,
     "end_time": "2020-08-11T08:42:22.613773",
     "exception": false,
     "start_time": "2020-08-11T08:42:22.581590",
     "status": "completed"
    },
    "tags": []
   },
   "source": [
    "**Comparing Model Performance**"
   ]
  },
  {
   "cell_type": "code",
   "execution_count": 33,
   "metadata": {
    "execution": {
     "iopub.execute_input": "2020-08-11T08:42:22.690622Z",
     "iopub.status.busy": "2020-08-11T08:42:22.689662Z",
     "iopub.status.idle": "2020-08-11T08:42:22.977087Z",
     "shell.execute_reply": "2020-08-11T08:42:22.976384Z"
    },
    "papermill": {
     "duration": 0.330388,
     "end_time": "2020-08-11T08:42:22.977225",
     "exception": false,
     "start_time": "2020-08-11T08:42:22.646837",
     "status": "completed"
    },
    "tags": []
   },
   "outputs": [
    {
     "data": {
      "text/html": [
       "<div>\n",
       "<style scoped>\n",
       "    .dataframe tbody tr th:only-of-type {\n",
       "        vertical-align: middle;\n",
       "    }\n",
       "\n",
       "    .dataframe tbody tr th {\n",
       "        vertical-align: top;\n",
       "    }\n",
       "\n",
       "    .dataframe thead th {\n",
       "        text-align: right;\n",
       "    }\n",
       "</style>\n",
       "<table border=\"1\" class=\"dataframe\">\n",
       "  <thead>\n",
       "    <tr style=\"text-align: right;\">\n",
       "      <th></th>\n",
       "      <th>rmse</th>\n",
       "      <th>score</th>\n",
       "      <th>model</th>\n",
       "    </tr>\n",
       "    <tr>\n",
       "      <th>name</th>\n",
       "      <th></th>\n",
       "      <th></th>\n",
       "      <th></th>\n",
       "    </tr>\n",
       "  </thead>\n",
       "  <tbody>\n",
       "    <tr>\n",
       "      <th>LinearSVR</th>\n",
       "      <td>95.204359</td>\n",
       "      <td>-1.837139</td>\n",
       "      <td>LinearSVR()</td>\n",
       "    </tr>\n",
       "    <tr>\n",
       "      <th>KernelRidge</th>\n",
       "      <td>64.099789</td>\n",
       "      <td>-0.286116</td>\n",
       "      <td>KernelRidge(alpha=0.6, coef0=2.5, kernel='poly...</td>\n",
       "    </tr>\n",
       "    <tr>\n",
       "      <th>NuSVR</th>\n",
       "      <td>53.806148</td>\n",
       "      <td>0.093786</td>\n",
       "      <td>NuSVR()</td>\n",
       "    </tr>\n",
       "    <tr>\n",
       "      <th>SVR</th>\n",
       "      <td>53.745821</td>\n",
       "      <td>0.095817</td>\n",
       "      <td>SVR()</td>\n",
       "    </tr>\n",
       "    <tr>\n",
       "      <th>Lasso</th>\n",
       "      <td>51.595504</td>\n",
       "      <td>0.166721</td>\n",
       "      <td>Lasso(alpha=16, random_state=100)</td>\n",
       "    </tr>\n",
       "    <tr>\n",
       "      <th>ElasticNet</th>\n",
       "      <td>45.021246</td>\n",
       "      <td>0.365543</td>\n",
       "      <td>ElasticNet()</td>\n",
       "    </tr>\n",
       "    <tr>\n",
       "      <th>ElasticNet</th>\n",
       "      <td>44.304403</td>\n",
       "      <td>0.385587</td>\n",
       "      <td>ElasticNet(alpha=0.8)</td>\n",
       "    </tr>\n",
       "    <tr>\n",
       "      <th>LinearRegression</th>\n",
       "      <td>38.749155</td>\n",
       "      <td>0.530007</td>\n",
       "      <td>LinearRegression()</td>\n",
       "    </tr>\n",
       "    <tr>\n",
       "      <th>RidgeCV</th>\n",
       "      <td>38.748732</td>\n",
       "      <td>0.530017</td>\n",
       "      <td>RidgeCV(alphas=array([0.001, 0.01 , 0.1  , 1. ...</td>\n",
       "    </tr>\n",
       "    <tr>\n",
       "      <th>AdaBoostRegressor</th>\n",
       "      <td>35.819529</td>\n",
       "      <td>0.598388</td>\n",
       "      <td>(DecisionTreeRegressor(max_depth=3, random_sta...</td>\n",
       "    </tr>\n",
       "    <tr>\n",
       "      <th>GradientBoostingRegressor</th>\n",
       "      <td>15.457528</td>\n",
       "      <td>0.925209</td>\n",
       "      <td>([DecisionTreeRegressor(criterion='friedman_ms...</td>\n",
       "    </tr>\n",
       "    <tr>\n",
       "      <th>DecisionTreeRegressor</th>\n",
       "      <td>13.587181</td>\n",
       "      <td>0.942214</td>\n",
       "      <td>DecisionTreeRegressor()</td>\n",
       "    </tr>\n",
       "    <tr>\n",
       "      <th>RandomForestRegressor</th>\n",
       "      <td>10.977490</td>\n",
       "      <td>0.962280</td>\n",
       "      <td>(DecisionTreeRegressor(max_features='auto', ra...</td>\n",
       "    </tr>\n",
       "    <tr>\n",
       "      <th>LGBMRegressor</th>\n",
       "      <td>9.577846</td>\n",
       "      <td>0.971285</td>\n",
       "      <td>LGBMRegressor()</td>\n",
       "    </tr>\n",
       "    <tr>\n",
       "      <th>XGBRegressor</th>\n",
       "      <td>8.201496</td>\n",
       "      <td>0.978945</td>\n",
       "      <td>XGBRegressor(base_score=0.5, booster='gbtree',...</td>\n",
       "    </tr>\n",
       "  </tbody>\n",
       "</table>\n",
       "</div>"
      ],
      "text/plain": [
       "                                rmse     score  \\\n",
       "name                                             \n",
       "LinearSVR                  95.204359 -1.837139   \n",
       "KernelRidge                64.099789 -0.286116   \n",
       "NuSVR                      53.806148  0.093786   \n",
       "SVR                        53.745821  0.095817   \n",
       "Lasso                      51.595504  0.166721   \n",
       "ElasticNet                 45.021246  0.365543   \n",
       "ElasticNet                 44.304403  0.385587   \n",
       "LinearRegression           38.749155  0.530007   \n",
       "RidgeCV                    38.748732  0.530017   \n",
       "AdaBoostRegressor          35.819529  0.598388   \n",
       "GradientBoostingRegressor  15.457528  0.925209   \n",
       "DecisionTreeRegressor      13.587181  0.942214   \n",
       "RandomForestRegressor      10.977490  0.962280   \n",
       "LGBMRegressor               9.577846  0.971285   \n",
       "XGBRegressor                8.201496  0.978945   \n",
       "\n",
       "                                                                       model  \n",
       "name                                                                          \n",
       "LinearSVR                                                        LinearSVR()  \n",
       "KernelRidge                KernelRidge(alpha=0.6, coef0=2.5, kernel='poly...  \n",
       "NuSVR                                                                NuSVR()  \n",
       "SVR                                                                    SVR()  \n",
       "Lasso                                      Lasso(alpha=16, random_state=100)  \n",
       "ElasticNet                                                      ElasticNet()  \n",
       "ElasticNet                                             ElasticNet(alpha=0.8)  \n",
       "LinearRegression                                          LinearRegression()  \n",
       "RidgeCV                    RidgeCV(alphas=array([0.001, 0.01 , 0.1  , 1. ...  \n",
       "AdaBoostRegressor          (DecisionTreeRegressor(max_depth=3, random_sta...  \n",
       "GradientBoostingRegressor  ([DecisionTreeRegressor(criterion='friedman_ms...  \n",
       "DecisionTreeRegressor                                DecisionTreeRegressor()  \n",
       "RandomForestRegressor      (DecisionTreeRegressor(max_features='auto', ra...  \n",
       "LGBMRegressor                                                LGBMRegressor()  \n",
       "XGBRegressor               XGBRegressor(base_score=0.5, booster='gbtree',...  "
      ]
     },
     "execution_count": 33,
     "metadata": {},
     "output_type": "execute_result"
    }
   ],
   "source": [
    "df_score = pd.DataFrame(list(zip(name,rmse, score, models)),columns=['name','rmse','score',\"model\"])\n",
    "df_score.set_index('name',inplace=True)\n",
    "df_score.sort_values(by=['score'],inplace=True)\n",
    "df_score"
   ]
  },
  {
   "cell_type": "markdown",
   "metadata": {
    "papermill": {
     "duration": 0.027543,
     "end_time": "2020-08-11T08:42:23.031668",
     "exception": false,
     "start_time": "2020-08-11T08:42:23.004125",
     "status": "completed"
    },
    "tags": []
   },
   "source": [
    "**Prediction**"
   ]
  },
  {
   "cell_type": "code",
   "execution_count": 34,
   "metadata": {
    "execution": {
     "iopub.execute_input": "2020-08-11T08:42:23.098943Z",
     "iopub.status.busy": "2020-08-11T08:42:23.098162Z",
     "iopub.status.idle": "2020-08-11T08:42:23.113894Z",
     "shell.execute_reply": "2020-08-11T08:42:23.114678Z"
    },
    "papermill": {
     "duration": 0.055192,
     "end_time": "2020-08-11T08:42:23.114898",
     "exception": false,
     "start_time": "2020-08-11T08:42:23.059706",
     "status": "completed"
    },
    "tags": []
   },
   "outputs": [
    {
     "data": {
      "text/plain": [
       "array([160.37555 , 161.73837 , 150.30173 , ...,  78.426575,  76.15676 ,\n",
       "        74.68166 ], dtype=float32)"
      ]
     },
     "execution_count": 34,
     "metadata": {},
     "output_type": "execute_result"
    }
   ],
   "source": [
    "model = df_score.loc[\"XGBRegressor\",\"model\"]\n",
    "data_test.drop(['Weekly_Sales'],axis=1,inplace=True)\n",
    "predict = model.predict(data_test)\n",
    "predict"
   ]
  },
  {
   "cell_type": "markdown",
   "metadata": {
    "papermill": {
     "duration": 0.03491,
     "end_time": "2020-08-11T08:42:23.184292",
     "exception": false,
     "start_time": "2020-08-11T08:42:23.149382",
     "status": "completed"
    },
    "tags": []
   },
   "source": [
    "# Work In Progress\n",
    "\n",
    "**Thank you for Reading, Please Upvote ,Comment and Follow for motivating me for more such work**"
   ]
  },
  {
   "cell_type": "markdown",
   "metadata": {
    "papermill": {
     "duration": 0.034172,
     "end_time": "2020-08-11T08:42:23.252463",
     "exception": false,
     "start_time": "2020-08-11T08:42:23.218291",
     "status": "completed"
    },
    "tags": []
   },
   "source": [
    "![Thanks](https://www.access2interpreters.com/wp-content/uploads/2016/01/thank-you.jpg)"
   ]
  }
 ],
 "metadata": {
  "kernelspec": {
   "display_name": "Python 3 (ipykernel)",
   "language": "python",
   "name": "python3"
  },
  "language_info": {
   "codemirror_mode": {
    "name": "ipython",
    "version": 3
   },
   "file_extension": ".py",
   "mimetype": "text/x-python",
   "name": "python",
   "nbconvert_exporter": "python",
   "pygments_lexer": "ipython3",
   "version": "3.9.7"
  },
  "papermill": {
   "duration": 99.374385,
   "end_time": "2020-08-11T08:42:23.396619",
   "environment_variables": {},
   "exception": null,
   "input_path": "__notebook__.ipynb",
   "output_path": "__notebook__.ipynb",
   "parameters": {},
   "start_time": "2020-08-11T08:40:44.022234",
   "version": "2.1.0"
  },
  "toc": {
   "base_numbering": 1,
   "nav_menu": {},
   "number_sections": true,
   "sideBar": true,
   "skip_h1_title": false,
   "title_cell": "Table of Contents",
   "title_sidebar": "Contents",
   "toc_cell": false,
   "toc_position": {},
   "toc_section_display": true,
   "toc_window_display": false
  },
  "varInspector": {
   "cols": {
    "lenName": 16,
    "lenType": 16,
    "lenVar": 40
   },
   "kernels_config": {
    "python": {
     "delete_cmd_postfix": "",
     "delete_cmd_prefix": "del ",
     "library": "var_list.py",
     "varRefreshCmd": "print(var_dic_list())"
    },
    "r": {
     "delete_cmd_postfix": ") ",
     "delete_cmd_prefix": "rm(",
     "library": "var_list.r",
     "varRefreshCmd": "cat(var_dic_list()) "
    }
   },
   "types_to_exclude": [
    "module",
    "function",
    "builtin_function_or_method",
    "instance",
    "_Feature"
   ],
   "window_display": false
  }
 },
 "nbformat": 4,
 "nbformat_minor": 4
}
